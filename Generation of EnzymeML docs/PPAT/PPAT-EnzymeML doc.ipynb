{
 "cells": [
  {
   "cell_type": "markdown",
   "id": "974815f1",
   "metadata": {},
   "source": [
    "## Greating EnzymeML document for PPAT:"
   ]
  },
  {
   "cell_type": "code",
   "execution_count": 41,
   "id": "3b1a6969",
   "metadata": {},
   "outputs": [],
   "source": [
    "import numpy as np\n",
    "import pandas as pd\n",
    "import glob, pickle, os\n",
    "import numpy as np\n",
    "\n",
    "from pyenzyme import (\n",
    "    EnzymeMLDocument,\n",
    "    Reactant, Complex, Vessel,\n",
    "    Protein, EnzymeReaction,\n",
    "    KineticModel, Measurement,\n",
    "    Replicate\n",
    ")"
   ]
  },
  {
   "cell_type": "markdown",
   "id": "2ae2bf34",
   "metadata": {},
   "source": [
    "## Initial Set-up of EnzymeML document. Adding of vessels, proteins and reactants:"
   ]
  },
  {
   "cell_type": "code",
   "execution_count": 42,
   "id": "4fae9bce",
   "metadata": {},
   "outputs": [],
   "source": [
    "# Start of the EnzymeMLDocument\n",
    "enzmldoc = EnzymeMLDocument(name=\"Phosphopantetheine adenylyltransferase (PPAT)\")\n",
    "\n",
    "# Adding Vessel:\n",
    "vessel = Vessel(name=\"96 well plate\", volume=150, unit=\"ul\")\n",
    "vessel_id = enzmldoc.addVessel(vessel)\n",
    "\n",
    "# Adding protein and reactants:\n",
    "PpanSH_id = enzmldoc.addReactant(Reactant(\n",
    "    name = \"4'-Phosphopantetheine\", vessel_id = vessel_id, init_conc = 1,\n",
    "    unit = \"mM\", constant = False, smiles = 'O=C(NCCS)CCNC(=O)[C@H](O)C(C)(C)COP(=O)(O)O',\n",
    "    chebi_id = 'CHEBI:4222',\n",
    "))\n",
    "\n",
    "ATP_id = enzmldoc.addReactant(Reactant(\n",
    "    name = \"Adenosine triphosphate\", vessel_id = vessel_id, init_conc = 3,\n",
    "    unit = \"mM\", constant = False, smiles = 'Nc1ncnc2n(cnc12)[COOH]1O[COH](COP(O)(=O)OP(O)(=O)OP(O)(O)=O)[COOH](O)[COH]1O',\n",
    "    chebi_id = 'CHEBI:15422',\n",
    "))\n",
    "\n",
    "PPi_id = enzmldoc.addReactant(Reactant(\n",
    "    name = \"Inorganic Pyrophospahte\", vessel_id = vessel_id, init_conc = 1,\n",
    "    unit = \"mM\", constant = False, smiles = '[O-]P(=O)([O-])OP(=O)([O-])[O-]',\n",
    "    chebi_id = 'CHEBI:18361',\n",
    "))"
   ]
  },
  {
   "cell_type": "code",
   "execution_count": 43,
   "id": "b042ee82-d882-45d9-ab4b-94be418f24df",
   "metadata": {},
   "outputs": [],
   "source": [
    "PPAT_id = enzmldoc.addProtein(Protein(\n",
    "    name=\"PPAT\", sequence = \"UNKNOWN\", vessel_id=vessel_id, \n",
    "    organism=\"Staphylococcus aureus\", init_conc=0.1, unit=\"mg / ml\",\n",
    "))"
   ]
  },
  {
   "cell_type": "markdown",
   "id": "e955d11f",
   "metadata": {},
   "source": [
    "## Adding the reaction to the EnzymeML document: "
   ]
  },
  {
   "cell_type": "code",
   "execution_count": 44,
   "id": "2610ae45-85de-4002-8fca-ad866b334538",
   "metadata": {},
   "outputs": [],
   "source": [
    "# Creating the reaction:\n",
    "\n",
    "reaction1 = EnzymeReaction(temperature=25.0, temperature_unit=\"C\", \n",
    "                           ph=7.8, name=\"Phosphopantetheine adenylyltransferase\", reversible=False)\n",
    "\n",
    "reaction1.addEduct(PpanSH_id, 1.0, enzmldoc)\n",
    "reaction1.addEduct(ATP_id, 1.0, enzmldoc)\n",
    "reaction1.addProduct(PPi_id, 1.0, enzmldoc)\n",
    "reaction1.addModifier(PPAT_id, 1.0, enzmldoc, False)\n",
    "\n"
   ]
  },
  {
   "cell_type": "code",
   "execution_count": 45,
   "id": "9b75eb2d",
   "metadata": {},
   "outputs": [
    {
     "data": {
      "text/plain": [
       "{'Phosphopantetheine adenylyltransferase': 'r0'}"
      ]
     },
     "execution_count": 45,
     "metadata": {},
     "output_type": "execute_result"
    }
   ],
   "source": [
    "# Add the reactions to the  EnzymeML document\n",
    "\n",
    "enzmldoc.addReactions([reaction1])"
   ]
  },
  {
   "cell_type": "markdown",
   "id": "00d05ac5-afaa-4c14-a132-71c7f9c22433",
   "metadata": {},
   "source": [
    "## Adding  measurements "
   ]
  },
  {
   "cell_type": "markdown",
   "id": "471d3b7c",
   "metadata": {},
   "source": [
    "(1) Create measurment for first condition at ATP = 3mM and PpanSH = 1mM"
   ]
  },
  {
   "cell_type": "code",
   "execution_count": 15,
   "id": "a355421f",
   "metadata": {},
   "outputs": [
    {
     "name": "stdout",
     "output_type": "stream",
     "text": [
      "Measurement created for two repeats at ATP = 3 mM, PpanSH = 1 mM \n"
     ]
    }
   ],
   "source": [
    "# Load your Excel file and read the sheets for each repeat\n",
    "df1 = pd.read_excel(r\"C:\\Users\\Francel\\Masters project\\Pyenzyme\\PPAT\\Run1-ATP_3 mM.xlsx\")\n",
    "df2 = pd.read_excel(r\"C:\\Users\\Francel\\Masters project\\Pyenzyme\\PPAT\\Run2-ATP_3 mM.xlsx\")\n",
    "\n",
    "# Create the Measurement object for one run at ATP = 3 mM\n",
    "measurement_1 = Measurement(\n",
    "    name=\"Run 1 - ATP = 3mM\", temperature=25, temperature_unit=\"C\",\n",
    "    ph=7.8, global_time_unit=\"mins\"\n",
    ")\n",
    "\n",
    "# Add initial concentrations for reactants\n",
    "measurement_1.addData(reactant_id=PpanSH_id, init_conc=1, unit=\"mM\")\n",
    "measurement_1.addData(reactant_id=ATP_id, init_conc=3, unit=\"mM\")\n",
    "measurement_1.addData(protein_id=PPAT_id, init_conc=0.1, unit=\"mg/ml\")\n",
    "\n",
    "# Convert time and data columns to lists before passing to Replicate\n",
    "repeat1 = Replicate(\n",
    "    id=\"repeat1 for ATP = 3 mM @ 1 mM PpanSH\",\n",
    "    species_id=ATP_id,\n",
    "    data_unit=\"mM\",\n",
    "    time_unit=\"min\",\n",
    "    time=df1['Time_min'].tolist(),\n",
    "    data=df1['A01'].tolist()\n",
    ")\n",
    "\n",
    "repeat2 = Replicate(\n",
    "    id=\"repeat2 for ATP = 3 mM @ 1 mM PpanSH\",\n",
    "    species_id=ATP_id,\n",
    "    data_unit=\"mM\",\n",
    "    time_unit=\"min\",\n",
    "    time=df2['Time_min'].tolist(),\n",
    "    data=df2['A03'].tolist()\n",
    ")\n",
    "\n",
    "\n",
    "\n",
    "# Add replicates to measurement\n",
    "measurement_1.addReplicates(repeat1, enzmldoc)\n",
    "measurement_1.addReplicates(repeat2, enzmldoc)\n",
    "\n",
    "# Add the measurement to the EnzymeML document\n",
    "meas_1_id = enzmldoc.addMeasurement(measurement_1)\n",
    "\n",
    "print(\"Measurement created for two repeats at ATP = 3 mM, PpanSH = 1 mM \")"
   ]
  },
  {
   "cell_type": "markdown",
   "id": "a71a4652",
   "metadata": {},
   "source": [
    "(2) Create measurment for the condition at ATP = 3 mM and PpanSH = 0.5 mM"
   ]
  },
  {
   "cell_type": "code",
   "execution_count": 16,
   "id": "cc00b224",
   "metadata": {},
   "outputs": [
    {
     "name": "stdout",
     "output_type": "stream",
     "text": [
      "Measurement created for two repeats at ATP = 3 mM, PpanSH = 0.5 mM \n"
     ]
    }
   ],
   "source": [
    "# Load your Excel file and read the sheets for each repeat\n",
    "df1 = pd.read_excel(r\"C:\\Users\\Francel\\Masters project\\Pyenzyme\\PPAT\\Run1-ATP_3 mM.xlsx\")\n",
    "df2 = pd.read_excel(r\"C:\\Users\\Francel\\Masters project\\Pyenzyme\\PPAT\\Run2-ATP_3 mM.xlsx\")\n",
    "\n",
    "# Create the Measurement object for one run at ATP = 3 mM\n",
    "measurement_2 = Measurement(\n",
    "    name=\"Run 2 - ATP = 3mM\", temperature=25, temperature_unit=\"C\",\n",
    "    ph=7.8, global_time_unit=\"mins\"\n",
    ")\n",
    "\n",
    "# Add initial concentrations for reactants\n",
    "measurement_2.addData(reactant_id=PpanSH_id, init_conc=0.5, unit=\"mM\")\n",
    "measurement_2.addData(reactant_id=ATP_id, init_conc=3, unit=\"mM\")\n",
    "measurement_2.addData(protein_id=PPAT_id, init_conc=0.1, unit=\"mg/ml\")\n",
    "\n",
    "# Convert time and data columns to lists before passing to Replicate\n",
    "repeat1 = Replicate(\n",
    "    id=\"repeat1 for ATP = 3 mM @ 0.5 mM PpanSH\",\n",
    "    species_id=ATP_id,\n",
    "    data_unit=\"mM\",\n",
    "    time_unit=\"min\",\n",
    "    time=df1['Time_min'].tolist(),\n",
    "    data=df1['B01'].tolist()\n",
    ")\n",
    "\n",
    "repeat2 = Replicate(\n",
    "    id=\"repeat2 for ATP = 3 mM @ 0.5 mM PpanSH\",\n",
    "    species_id=ATP_id,\n",
    "    data_unit=\"mM\",\n",
    "    time_unit=\"min\",\n",
    "    time=df2['Time_min'].tolist(),\n",
    "    data=df2['B03'].tolist()\n",
    ")\n",
    "\n",
    "\n",
    "\n",
    "# Add replicates to measurement\n",
    "measurement_2.addReplicates(repeat1, enzmldoc)\n",
    "measurement_2.addReplicates(repeat2, enzmldoc)\n",
    "\n",
    "# Add the measurement to the EnzymeML document\n",
    "meas_2_id = enzmldoc.addMeasurement(measurement_2)\n",
    "\n",
    "print(\"Measurement created for two repeats at ATP = 3 mM, PpanSH = 0.5 mM \")"
   ]
  },
  {
   "cell_type": "markdown",
   "id": "71fede19",
   "metadata": {},
   "source": [
    "(3) Create measurment for the condition at ATP = 3 mM and PpanSH = 0.25 mM"
   ]
  },
  {
   "cell_type": "code",
   "execution_count": 17,
   "id": "51ced359",
   "metadata": {},
   "outputs": [
    {
     "name": "stdout",
     "output_type": "stream",
     "text": [
      "Measurement created for two repeats at ATP = 3 mM, PpanSH = 0.25 mM \n"
     ]
    }
   ],
   "source": [
    "# Load your Excel file and read the sheets for each repeat\n",
    "df1 = pd.read_excel(r\"C:\\Users\\Francel\\Masters project\\Pyenzyme\\PPAT\\Run1-ATP_3 mM.xlsx\")\n",
    "df2 = pd.read_excel(r\"C:\\Users\\Francel\\Masters project\\Pyenzyme\\PPAT\\Run2-ATP_3 mM.xlsx\")\n",
    "\n",
    "# Create the Measurement object for one run at ATP = 3 mM\n",
    "measurement_3 = Measurement(\n",
    "    name=\"Run 3 - ATP = 3mM\", temperature=25, temperature_unit=\"C\",\n",
    "    ph=7.8, global_time_unit=\"mins\"\n",
    ")\n",
    "\n",
    "# Add initial concentrations for reactants\n",
    "measurement_3.addData(reactant_id=PpanSH_id, init_conc=0.25, unit=\"mM\")\n",
    "measurement_3.addData(reactant_id=ATP_id, init_conc=3, unit=\"mM\")\n",
    "measurement_3.addData(protein_id=PPAT_id, init_conc=0.1, unit=\"mg/ml\")\n",
    "\n",
    "# Convert time and data columns to lists before passing to Replicate\n",
    "repeat1 = Replicate(\n",
    "    id=\"repeat1 for ATP = 3 mM @ 0.25 mM PpanSH\",\n",
    "    species_id=ATP_id,\n",
    "    data_unit=\"mM\",\n",
    "    time_unit=\"min\",\n",
    "    time=df1['Time_min'].tolist(),\n",
    "    data=df1['C01'].tolist()\n",
    ")\n",
    "\n",
    "repeat2 = Replicate(\n",
    "    id=\"repeat2 for ATP = 3 mM @ 0.25 mM PpanSH\",\n",
    "    species_id=ATP_id,\n",
    "    data_unit=\"mM\",\n",
    "    time_unit=\"min\",\n",
    "    time=df2['Time_min'].tolist(),\n",
    "    data=df2['C03'].tolist()\n",
    ")\n",
    "\n",
    "\n",
    "\n",
    "# Add replicates to measurement\n",
    "measurement_3.addReplicates(repeat1, enzmldoc)\n",
    "measurement_3.addReplicates(repeat2, enzmldoc)\n",
    "\n",
    "# Add the measurement to the EnzymeML document\n",
    "meas_3_id = enzmldoc.addMeasurement(measurement_3)\n",
    "\n",
    "print(\"Measurement created for two repeats at ATP = 3 mM, PpanSH = 0.25 mM \")"
   ]
  },
  {
   "cell_type": "markdown",
   "id": "5ca0f7d6",
   "metadata": {},
   "source": [
    "(4) Create measurment for the condition at ATP = 3 mM and PpanSH = 0.125 mM"
   ]
  },
  {
   "cell_type": "code",
   "execution_count": 18,
   "id": "9e113f91",
   "metadata": {},
   "outputs": [
    {
     "name": "stdout",
     "output_type": "stream",
     "text": [
      "Measurement created for two repeats at ATP = 3 mM, PpanSH = 0.125 mM \n"
     ]
    }
   ],
   "source": [
    "# Load your Excel file and read the sheets for each repeat\n",
    "df1 = pd.read_excel(r\"C:\\Users\\Francel\\Masters project\\Pyenzyme\\PPAT\\Run1-ATP_3 mM.xlsx\")\n",
    "df2 = pd.read_excel(r\"C:\\Users\\Francel\\Masters project\\Pyenzyme\\PPAT\\Run2-ATP_3 mM.xlsx\")\n",
    "\n",
    "# Create the Measurement object for one run at ATP = 3 mM\n",
    "measurement_4 = Measurement(\n",
    "    name=\"Run 4 - ATP = 3mM\", temperature=25, temperature_unit=\"C\",\n",
    "    ph=7.8, global_time_unit=\"mins\"\n",
    ")\n",
    "\n",
    "# Add initial concentrations for reactants\n",
    "measurement_4.addData(reactant_id=PpanSH_id, init_conc=0.125, unit=\"mM\")\n",
    "measurement_4.addData(reactant_id=ATP_id, init_conc=3, unit=\"mM\")\n",
    "measurement_4.addData(protein_id=PPAT_id, init_conc=0.1, unit=\"mg/ml\")\n",
    "\n",
    "# Convert time and data columns to lists before passing to Replicate\n",
    "repeat1 = Replicate(\n",
    "    id=\"repeat1 for ATP = 3 mM @ 0.125 mM PpanSH\",\n",
    "    species_id=ATP_id,\n",
    "    data_unit=\"mM\",\n",
    "    time_unit=\"min\",\n",
    "    time=df1['Time_min'].tolist(),\n",
    "    data=df1['D01'].tolist()\n",
    ")\n",
    "\n",
    "repeat2 = Replicate(\n",
    "    id=\"repeat2 for ATP = 3 mM @ 0.125 mM PpanSH\",\n",
    "    species_id=ATP_id,\n",
    "    data_unit=\"mM\",\n",
    "    time_unit=\"min\",\n",
    "    time=df2['Time_min'].tolist(),\n",
    "    data=df2['D03'].tolist()\n",
    ")\n",
    "\n",
    "\n",
    "\n",
    "# Add replicates to measurement\n",
    "measurement_4.addReplicates(repeat1, enzmldoc)\n",
    "measurement_4.addReplicates(repeat2, enzmldoc)\n",
    "\n",
    "# Add the measurement to the EnzymeML document\n",
    "meas_4_id = enzmldoc.addMeasurement(measurement_4)\n",
    "\n",
    "print(\"Measurement created for two repeats at ATP = 3 mM, PpanSH = 0.125 mM \")"
   ]
  },
  {
   "cell_type": "markdown",
   "id": "e3ef0c79",
   "metadata": {},
   "source": [
    "(5) Create measurment for the condition at ATP = 3 mM and PpanSH = 0.0625 mM"
   ]
  },
  {
   "cell_type": "code",
   "execution_count": 19,
   "id": "81953580",
   "metadata": {},
   "outputs": [
    {
     "name": "stdout",
     "output_type": "stream",
     "text": [
      "Measurement created for two repeats at ATP = 3 mM, PpanSH = 0.0625 mM \n"
     ]
    }
   ],
   "source": [
    "# Load your Excel file and read the sheets for each repeat\n",
    "df1 = pd.read_excel(r\"C:\\Users\\Francel\\Masters project\\Pyenzyme\\PPAT\\Run1-ATP_3 mM.xlsx\")\n",
    "df2 = pd.read_excel(r\"C:\\Users\\Francel\\Masters project\\Pyenzyme\\PPAT\\Run2-ATP_3 mM.xlsx\")\n",
    "\n",
    "# Create the Measurement object for one run at ATP = 3 mM\n",
    "measurement_5 = Measurement(\n",
    "    name=\"Run 5 - ATP = 3mM\", temperature=25, temperature_unit=\"C\",\n",
    "    ph=7.8, global_time_unit=\"mins\"\n",
    ")\n",
    "\n",
    "# Add initial concentrations for reactants\n",
    "measurement_5.addData(reactant_id=PpanSH_id, init_conc=0.0625, unit=\"mM\")\n",
    "measurement_5.addData(reactant_id=ATP_id, init_conc=3, unit=\"mM\")\n",
    "measurement_5.addData(protein_id=PPAT_id, init_conc=0.1, unit=\"mg/ml\")\n",
    "\n",
    "# Convert time and data columns to lists before passing to Replicate\n",
    "repeat1 = Replicate(\n",
    "    id=\"repeat1 for ATP = 3 mM @ 0.0625 mM PpanSH\",\n",
    "    species_id=ATP_id,\n",
    "    data_unit=\"mM\",\n",
    "    time_unit=\"min\",\n",
    "    time=df1['Time_min'].tolist(),\n",
    "    data=df1['E01'].tolist()\n",
    ")\n",
    "\n",
    "repeat2 = Replicate(\n",
    "    id=\"repeat2 for ATP = 3 mM @ 0.0625 mM PpanSH\",\n",
    "    species_id=ATP_id,\n",
    "    data_unit=\"mM\",\n",
    "    time_unit=\"min\",\n",
    "    time=df2['Time_min'].tolist(),\n",
    "    data=df2['E03'].tolist()\n",
    ")\n",
    "\n",
    "\n",
    "\n",
    "# Add replicates to measurement\n",
    "measurement_5.addReplicates(repeat1, enzmldoc)\n",
    "measurement_5.addReplicates(repeat2, enzmldoc)\n",
    "\n",
    "# Add the measurement to the EnzymeML document\n",
    "meas_5_id = enzmldoc.addMeasurement(measurement_5)\n",
    "\n",
    "print(\"Measurement created for two repeats at ATP = 3 mM, PpanSH = 0.0625 mM \")"
   ]
  },
  {
   "cell_type": "markdown",
   "id": "82bd616c",
   "metadata": {},
   "source": [
    "(6) Create measurment for the condition at ATP = 3 mM and PpanSH = 0.0312 mM"
   ]
  },
  {
   "cell_type": "code",
   "execution_count": 20,
   "id": "a8670f1d",
   "metadata": {},
   "outputs": [
    {
     "name": "stdout",
     "output_type": "stream",
     "text": [
      "Measurement created for two repeats at ATP = 3 mM, PpanSH = 0.0312 mM \n"
     ]
    }
   ],
   "source": [
    "# Load your Excel file and read the sheets for each repeat\n",
    "df1 = pd.read_excel(r\"C:\\Users\\Francel\\Masters project\\Pyenzyme\\PPAT\\Run1-ATP_3 mM.xlsx\")\n",
    "df2 = pd.read_excel(r\"C:\\Users\\Francel\\Masters project\\Pyenzyme\\PPAT\\Run2-ATP_3 mM.xlsx\")\n",
    "\n",
    "# Create the Measurement object for one run at ATP = 3 mM\n",
    "measurement_6 = Measurement(\n",
    "    name=\"Run 6 - ATP = 3mM\", temperature=25, temperature_unit=\"C\",\n",
    "    ph=7.8, global_time_unit=\"mins\"\n",
    ")\n",
    "\n",
    "# Add initial concentrations for reactants\n",
    "measurement_6.addData(reactant_id=PpanSH_id, init_conc=0.0312, unit=\"mM\")\n",
    "measurement_6.addData(reactant_id=ATP_id, init_conc=3, unit=\"mM\")\n",
    "measurement_6.addData(protein_id=PPAT_id, init_conc=0.1, unit=\"mg/ml\")\n",
    "\n",
    "# Convert time and data columns to lists before passing to Replicate\n",
    "repeat1 = Replicate(\n",
    "    id=\"repeat1 for ATP = 3 mM @ 0.0312 mM PpanSH\",\n",
    "    species_id=ATP_id,\n",
    "    data_unit=\"mM\",\n",
    "    time_unit=\"min\",\n",
    "    time=df1['Time_min'].tolist(),\n",
    "    data=df1['F01'].tolist()\n",
    ")\n",
    "\n",
    "repeat2 = Replicate(\n",
    "    id=\"repeat2 for ATP = 3 mM @ 0.0312 mM PpanSH\",\n",
    "    species_id=ATP_id,\n",
    "    data_unit=\"mM\",\n",
    "    time_unit=\"min\",\n",
    "    time=df2['Time_min'].tolist(),\n",
    "    data=df2['F03'].tolist()\n",
    ")\n",
    "\n",
    "\n",
    "\n",
    "# Add replicates to measurement\n",
    "measurement_6.addReplicates(repeat1, enzmldoc)\n",
    "measurement_6.addReplicates(repeat2, enzmldoc)\n",
    "\n",
    "# Add the measurement to the EnzymeML document\n",
    "meas_6_id = enzmldoc.addMeasurement(measurement_6)\n",
    "\n",
    "print(\"Measurement created for two repeats at ATP = 3 mM, PpanSH = 0.0312 mM \")"
   ]
  },
  {
   "cell_type": "markdown",
   "id": "497d2c65",
   "metadata": {},
   "source": [
    "(7) Create measurment for first condition at ATP = 1mM and PpanSH = 1mM"
   ]
  },
  {
   "cell_type": "code",
   "execution_count": 7,
   "id": "a506de6c",
   "metadata": {},
   "outputs": [
    {
     "name": "stdout",
     "output_type": "stream",
     "text": [
      "Measurement created for two repeats at ATP = 1 mM, PpanSH = 1 mM \n"
     ]
    }
   ],
   "source": [
    "# Load your Excel file and read the sheets for each repeat\n",
    "df1 = pd.read_excel(r\"C:\\Users\\Francel\\Masters project\\Pyenzyme\\PPAT\\Run1-ATP_1mM.xlsx\")\n",
    "df2 = pd.read_excel(r\"C:\\Users\\Francel\\Masters project\\Pyenzyme\\PPAT\\Run2-ATP_1mM.xlsx\")\n",
    "\n",
    "# Create the Measurement object for one run at ATP = 1 mM\n",
    "measurement_7 = Measurement(\n",
    "    name=\"Run 7 - ATP = 1mM\", temperature=25, temperature_unit=\"C\",\n",
    "    ph=7.8, global_time_unit=\"mins\"\n",
    ")\n",
    "\n",
    "# Add initial concentrations for reactants\n",
    "measurement_7.addData(reactant_id=PpanSH_id, init_conc=1, unit=\"mM\")\n",
    "measurement_7.addData(reactant_id=ATP_id, init_conc=1, unit=\"mM\")\n",
    "measurement_7.addData(protein_id=PPAT_id, init_conc=0.1, unit=\"mg/ml\")\n",
    "\n",
    "# Convert time and data columns to lists before passing to Replicate\n",
    "repeat1 = Replicate(\n",
    "    id=\"repeat1 for ATP = 1 mM @ 1 mM PpanSH\",\n",
    "    species_id=ATP_id,\n",
    "    data_unit=\"mM\",\n",
    "    time_unit=\"min\",\n",
    "    time=df1['Time_min'].tolist(),\n",
    "    data=df1['A07'].tolist()\n",
    ")\n",
    "\n",
    "repeat2 = Replicate(\n",
    "    id=\"repeat2 for ATP = 1 mM @ 1 mM PpanSH\",\n",
    "    species_id=ATP_id,\n",
    "    data_unit=\"mM\",\n",
    "    time_unit=\"min\",\n",
    "    time=df2['Time_min'].tolist(),\n",
    "    data=df2['A05'].tolist()\n",
    ")\n",
    "\n",
    "\n",
    "\n",
    "# Add replicates to measurement\n",
    "measurement_7.addReplicates(repeat1, enzmldoc)\n",
    "measurement_7.addReplicates(repeat2, enzmldoc)\n",
    "\n",
    "# Add the measurement to the EnzymeML document\n",
    "meas_7_id = enzmldoc.addMeasurement(measurement_7)\n",
    "\n",
    "print(\"Measurement created for two repeats at ATP = 1 mM, PpanSH = 1 mM \")"
   ]
  },
  {
   "cell_type": "markdown",
   "id": "86420056",
   "metadata": {},
   "source": [
    "(8) Create measurment for condition at ATP = 1mM and PpanSH = 0.5mM"
   ]
  },
  {
   "cell_type": "code",
   "execution_count": 9,
   "id": "2bd996db",
   "metadata": {},
   "outputs": [
    {
     "name": "stdout",
     "output_type": "stream",
     "text": [
      "Measurement created for two repeats at ATP = 1 mM, PpanSH = 0.5 mM \n"
     ]
    }
   ],
   "source": [
    "#Load your Excel file and read the sheets for each repeat\n",
    "df1 = pd.read_excel(r\"C:\\Users\\Francel\\Masters project\\Pyenzyme\\PPAT\\Run1-ATP_1mM.xlsx\")\n",
    "df2 = pd.read_excel(r\"C:\\Users\\Francel\\Masters project\\Pyenzyme\\PPAT\\Run2-ATP_1mM.xlsx\")\n",
    "\n",
    "# Create the Measurement object for one run at ATP = 1 mM\n",
    "measurement_8 = Measurement(\n",
    "    name=\"Run 8 - ATP = 1mM\", temperature=25, temperature_unit=\"C\",\n",
    "    ph=7.8, global_time_unit=\"mins\"\n",
    ")\n",
    "\n",
    "# Add initial concentrations for reactants\n",
    "measurement_8.addData(reactant_id=PpanSH_id, init_conc=0.5, unit=\"mM\")\n",
    "measurement_8.addData(reactant_id=ATP_id, init_conc=1, unit=\"mM\")\n",
    "measurement_8.addData(protein_id=PPAT_id, init_conc=0.1, unit=\"mg/ml\")\n",
    "\n",
    "# Convert time and data columns to lists before passing to Replicate\n",
    "repeat1 = Replicate(\n",
    "    id=\"repeat1 for ATP = 1 mM @ 0.5 mM PpanSH\",\n",
    "    species_id=ATP_id,\n",
    "    data_unit=\"mM\",\n",
    "    time_unit=\"min\",\n",
    "    time=df1['Time_min'].tolist(),\n",
    "    data=df1['B07'].tolist()\n",
    ")\n",
    "\n",
    "repeat2 = Replicate(\n",
    "    id=\"repeat2 for ATP = 1 mM @ 0.5 mM PpanSH\",\n",
    "    species_id=ATP_id,\n",
    "    data_unit=\"mM\",\n",
    "    time_unit=\"min\",\n",
    "    time=df2['Time_min'].tolist(),\n",
    "    data=df2['B05'].tolist()\n",
    ")\n",
    "\n",
    "\n",
    "\n",
    "# Add replicates to measurement\n",
    "measurement_8.addReplicates(repeat1, enzmldoc)\n",
    "measurement_8.addReplicates(repeat2, enzmldoc)\n",
    "\n",
    "# Add the measurement to the EnzymeML document\n",
    "meas_8_id = enzmldoc.addMeasurement(measurement_8)\n",
    "\n",
    "print(\"Measurement created for two repeats at ATP = 1 mM, PpanSH = 0.5 mM \")"
   ]
  },
  {
   "cell_type": "markdown",
   "id": "b7afb059",
   "metadata": {},
   "source": [
    "(9) Create measurment for condition at ATP = 1mM and PpanSH = 0.25mM"
   ]
  },
  {
   "cell_type": "code",
   "execution_count": 10,
   "id": "6adfcf2d",
   "metadata": {},
   "outputs": [
    {
     "name": "stdout",
     "output_type": "stream",
     "text": [
      "Measurement created for two repeats at ATP = 1 mM, PpanSH = 0.25 mM \n"
     ]
    }
   ],
   "source": [
    "#Load your Excel file and read the sheets for each repeat\n",
    "df1 = pd.read_excel(r\"C:\\Users\\Francel\\Masters project\\Pyenzyme\\PPAT\\Run1-ATP_1mM.xlsx\")\n",
    "df2 = pd.read_excel(r\"C:\\Users\\Francel\\Masters project\\Pyenzyme\\PPAT\\Run2-ATP_1mM.xlsx\")\n",
    "\n",
    "# Create the Measurement object for one run at ATP = 1 mM\n",
    "measurement_9 = Measurement(\n",
    "    name=\"Run 9 - ATP = 1mM\", temperature=25, temperature_unit=\"C\",\n",
    "    ph=7.8, global_time_unit=\"mins\"\n",
    ")\n",
    "\n",
    "# Add initial concentrations for reactants\n",
    "measurement_9.addData(reactant_id=PpanSH_id, init_conc=0.25, unit=\"mM\")\n",
    "measurement_9.addData(reactant_id=ATP_id, init_conc=1, unit=\"mM\")\n",
    "measurement_9.addData(protein_id=PPAT_id, init_conc=0.1, unit=\"mg/ml\")\n",
    "\n",
    "# Convert time and data columns to lists before passing to Replicate\n",
    "repeat1 = Replicate(\n",
    "    id=\"repeat1 for ATP = 1 mM @ 0.25 mM PpanSH\",\n",
    "    species_id=ATP_id,\n",
    "    data_unit=\"mM\",\n",
    "    time_unit=\"min\",\n",
    "    time=df1['Time_min'].tolist(),\n",
    "    data=df1['C07'].tolist()\n",
    ")\n",
    "\n",
    "repeat2 = Replicate(\n",
    "    id=\"repeat2 for ATP = 1 mM @ 0.25 mM PpanSH\",\n",
    "    species_id=ATP_id,\n",
    "    data_unit=\"mM\",\n",
    "    time_unit=\"min\",\n",
    "    time=df2['Time_min'].tolist(),\n",
    "    data=df2['C05'].tolist()\n",
    ")\n",
    "\n",
    "\n",
    "\n",
    "# Add replicates to measurement\n",
    "measurement_9.addReplicates(repeat1, enzmldoc)\n",
    "measurement_9.addReplicates(repeat2, enzmldoc)\n",
    "\n",
    "# Add the measurement to the EnzymeML document\n",
    "meas_9_id = enzmldoc.addMeasurement(measurement_9)\n",
    "\n",
    "print(\"Measurement created for two repeats at ATP = 1 mM, PpanSH = 0.25 mM \")"
   ]
  },
  {
   "cell_type": "markdown",
   "id": "96856ecf",
   "metadata": {},
   "source": [
    "(10) Create measurment for condition at ATP = 1mM and PpanSH = 0.125mM"
   ]
  },
  {
   "cell_type": "code",
   "execution_count": 11,
   "id": "d2847d23",
   "metadata": {},
   "outputs": [
    {
     "name": "stdout",
     "output_type": "stream",
     "text": [
      "Measurement created for two repeats at ATP = 1 mM, PpanSH = 0.125 mM \n"
     ]
    }
   ],
   "source": [
    "#Load your Excel file and read the sheets for each repeat\n",
    "df1 = pd.read_excel(r\"C:\\Users\\Francel\\Masters project\\Pyenzyme\\PPAT\\Run1-ATP_1mM.xlsx\")\n",
    "df2 = pd.read_excel(r\"C:\\Users\\Francel\\Masters project\\Pyenzyme\\PPAT\\Run2-ATP_1mM.xlsx\")\n",
    "\n",
    "# Create the Measurement object for one run at ATP = 1 mM\n",
    "measurement_10 = Measurement(\n",
    "    name=\"Run 10 - ATP = 1mM\", temperature=25, temperature_unit=\"C\",\n",
    "    ph=7.8, global_time_unit=\"mins\"\n",
    ")\n",
    "\n",
    "# Add initial concentrations for reactants\n",
    "measurement_10.addData(reactant_id=PpanSH_id, init_conc=0.125, unit=\"mM\")\n",
    "measurement_10.addData(reactant_id=ATP_id, init_conc=1, unit=\"mM\")\n",
    "measurement_10.addData(protein_id=PPAT_id, init_conc=0.1, unit=\"mg/ml\")\n",
    "\n",
    "# Convert time and data columns to lists before passing to Replicate\n",
    "repeat1 = Replicate(\n",
    "    id=\"repeat1 for ATP = 1 mM @ 0.125 mM PpanSH\",\n",
    "    species_id=ATP_id,\n",
    "    data_unit=\"mM\",\n",
    "    time_unit=\"min\",\n",
    "    time=df1['Time_min'].tolist(),\n",
    "    data=df1['D07'].tolist()\n",
    ")\n",
    "\n",
    "repeat2 = Replicate(\n",
    "    id=\"repeat2 for ATP = 1 mM @ 0.125 mM PpanSH\",\n",
    "    species_id=ATP_id,\n",
    "    data_unit=\"mM\",\n",
    "    time_unit=\"min\",\n",
    "    time=df2['Time_min'].tolist(),\n",
    "    data=df2['D05'].tolist()\n",
    ")\n",
    "\n",
    "\n",
    "\n",
    "# Add replicates to measurement\n",
    "measurement_10.addReplicates(repeat1, enzmldoc)\n",
    "measurement_10.addReplicates(repeat2, enzmldoc)\n",
    "\n",
    "# Add the measurement to the EnzymeML document\n",
    "meas_10_id = enzmldoc.addMeasurement(measurement_10)\n",
    "\n",
    "print(\"Measurement created for two repeats at ATP = 1 mM, PpanSH = 0.125 mM \")"
   ]
  },
  {
   "cell_type": "markdown",
   "id": "253fa720",
   "metadata": {},
   "source": [
    "(11) Create measurment for condition at ATP = 1mM and PpanSH = 0.0625mM"
   ]
  },
  {
   "cell_type": "code",
   "execution_count": 12,
   "id": "111d47be",
   "metadata": {},
   "outputs": [
    {
     "name": "stdout",
     "output_type": "stream",
     "text": [
      "Measurement created for two repeats at ATP = 1 mM, PpanSH = 0.0625 mM \n"
     ]
    }
   ],
   "source": [
    "#Load your Excel file and read the sheets for each repeat\n",
    "df1 = pd.read_excel(r\"C:\\Users\\Francel\\Masters project\\Pyenzyme\\PPAT\\Run1-ATP_1mM.xlsx\")\n",
    "df2 = pd.read_excel(r\"C:\\Users\\Francel\\Masters project\\Pyenzyme\\PPAT\\Run2-ATP_1mM.xlsx\")\n",
    "\n",
    "# Create the Measurement object for one run at ATP = 1 mM\n",
    "measurement_11 = Measurement(\n",
    "    name=\"Run 11 - ATP = 1mM\", temperature=25, temperature_unit=\"C\",\n",
    "    ph=7.8, global_time_unit=\"mins\"\n",
    ")\n",
    "\n",
    "# Add initial concentrations for reactants\n",
    "measurement_11.addData(reactant_id=PpanSH_id, init_conc=0.0625, unit=\"mM\")\n",
    "measurement_11.addData(reactant_id=ATP_id, init_conc=1, unit=\"mM\")\n",
    "measurement_11.addData(protein_id=PPAT_id, init_conc=0.1, unit=\"mg/ml\")\n",
    "\n",
    "# Convert time and data columns to lists before passing to Replicate\n",
    "repeat1 = Replicate(\n",
    "    id=\"repeat1 for ATP = 1 mM @ 0.0625 mM PpanSH\",\n",
    "    species_id=ATP_id,\n",
    "    data_unit=\"mM\",\n",
    "    time_unit=\"min\",\n",
    "    time=df1['Time_min'].tolist(),\n",
    "    data=df1['E07'].tolist()\n",
    ")\n",
    "\n",
    "repeat2 = Replicate(\n",
    "    id=\"repeat2 for ATP = 1 mM @ 0.0625 mM PpanSH\",\n",
    "    species_id=ATP_id,\n",
    "    data_unit=\"mM\",\n",
    "    time_unit=\"min\",\n",
    "    time=df2['Time_min'].tolist(),\n",
    "    data=df2['E05'].tolist()\n",
    ")\n",
    "\n",
    "\n",
    "\n",
    "# Add replicates to measurement\n",
    "measurement_11.addReplicates(repeat1, enzmldoc)\n",
    "measurement_11.addReplicates(repeat2, enzmldoc)\n",
    "\n",
    "# Add the measurement to the EnzymeML document\n",
    "meas_11_id = enzmldoc.addMeasurement(measurement_11)\n",
    "\n",
    "print(\"Measurement created for two repeats at ATP = 1 mM, PpanSH = 0.0625 mM \")"
   ]
  },
  {
   "cell_type": "markdown",
   "id": "719ea006",
   "metadata": {},
   "source": [
    "(12) Create measurment for condition at ATP = 1mM and PpanSH = 0.0312mM"
   ]
  },
  {
   "cell_type": "code",
   "execution_count": 13,
   "id": "589ce7ec",
   "metadata": {},
   "outputs": [
    {
     "name": "stdout",
     "output_type": "stream",
     "text": [
      "Measurement created for two repeats at ATP = 1 mM, PpanSH = 0.0312 mM \n"
     ]
    }
   ],
   "source": [
    "#Load your Excel file and read the sheets for each repeat\n",
    "df1 = pd.read_excel(r\"C:\\Users\\Francel\\Masters project\\Pyenzyme\\PPAT\\Run1-ATP_1mM.xlsx\")\n",
    "df2 = pd.read_excel(r\"C:\\Users\\Francel\\Masters project\\Pyenzyme\\PPAT\\Run2-ATP_1mM.xlsx\")\n",
    "\n",
    "# Create the Measurement object for one run at ATP = 1 mM\n",
    "measurement_12 = Measurement(\n",
    "    name=\"Run 12 - ATP = 1mM\", temperature=25, temperature_unit=\"C\",\n",
    "    ph=7.8, global_time_unit=\"mins\"\n",
    ")\n",
    "\n",
    "# Add initial concentrations for reactants\n",
    "measurement_12.addData(reactant_id=PpanSH_id, init_conc=0.0312, unit=\"mM\")\n",
    "measurement_12.addData(reactant_id=ATP_id, init_conc=1, unit=\"mM\")\n",
    "measurement_12.addData(protein_id=PPAT_id, init_conc=0.1, unit=\"mg/ml\")\n",
    "\n",
    "# Convert time and data columns to lists before passing to Replicate\n",
    "repeat1 = Replicate(\n",
    "    id=\"repeat1 for ATP = 1 mM @ 0.0312 mM PpanSH\",\n",
    "    species_id=ATP_id,\n",
    "    data_unit=\"mM\",\n",
    "    time_unit=\"min\",\n",
    "    time=df1['Time_min'].tolist(),\n",
    "    data=df1['F07'].tolist()\n",
    ")\n",
    "\n",
    "repeat2 = Replicate(\n",
    "    id=\"repeat2 for ATP = 1 mM @ 0.0312 mM PpanSH\",\n",
    "    species_id=ATP_id,\n",
    "    data_unit=\"mM\",\n",
    "    time_unit=\"min\",\n",
    "    time=df2['Time_min'].tolist(),\n",
    "    data=df2['F05'].tolist()\n",
    ")\n",
    "\n",
    "\n",
    "\n",
    "# Add replicates to measurement\n",
    "measurement_12.addReplicates(repeat1, enzmldoc)\n",
    "measurement_12.addReplicates(repeat2, enzmldoc)\n",
    "\n",
    "# Add the measurement to the EnzymeML document\n",
    "meas_12_id = enzmldoc.addMeasurement(measurement_12)\n",
    "\n",
    "print(\"Measurement created for two repeats at ATP = 1 mM, PpanSH = 0.0312 mM \")"
   ]
  },
  {
   "cell_type": "markdown",
   "id": "4d7a8e69",
   "metadata": {},
   "source": [
    "(13) Create measurment for first condition at ATP = 0.5mM and PpanSH = 1mM"
   ]
  },
  {
   "cell_type": "code",
   "execution_count": 14,
   "id": "d70997ca",
   "metadata": {},
   "outputs": [
    {
     "name": "stdout",
     "output_type": "stream",
     "text": [
      "Measurement created for two repeats at ATP = 0.5 mM, PpanSH = 1 mM \n"
     ]
    }
   ],
   "source": [
    "#Load your Excel file and read the sheets for each repeat\n",
    "df1 = pd.read_excel(r\"C:\\Users\\Francel\\Masters project\\Pyenzyme\\PPAT\\Run1-ATP_0_5.xlsx\")\n",
    "df2 = pd.read_excel(r\"C:\\Users\\Francel\\Masters project\\Pyenzyme\\PPAT\\Run2-ATP_0_5.xlsx\")\n",
    "\n",
    "# Create the Measurement object for one run at ATP = 0.5 mM\n",
    "measurement_13 = Measurement(\n",
    "    name=\"Run 13 - ATP = 0.5mM\", temperature=25, temperature_unit=\"C\",\n",
    "    ph=7.8, global_time_unit=\"mins\"\n",
    ")\n",
    "\n",
    "# Add initial concentrations for reactants\n",
    "measurement_13.addData(reactant_id=PpanSH_id, init_conc=1, unit=\"mM\")\n",
    "measurement_13.addData(reactant_id=ATP_id, init_conc=0.5, unit=\"mM\")\n",
    "measurement_13.addData(protein_id=PPAT_id, init_conc=0.1, unit=\"mg/ml\")\n",
    "\n",
    "# Convert time and data columns to lists before passing to Replicate\n",
    "repeat1 = Replicate(\n",
    "    id=\"repeat1 for ATP = 0.5 mM @ 1 mM PpanSH\",\n",
    "    species_id=ATP_id,\n",
    "    data_unit=\"mM\",\n",
    "    time_unit=\"min\",\n",
    "    time=df1['Time_min'].tolist(),\n",
    "    data=df1['A09'].tolist()\n",
    ")\n",
    "\n",
    "repeat2 = Replicate(\n",
    "    id=\"repeat2 for ATP = 0.5 mM @ 1 mM PpanSH\",\n",
    "    species_id=ATP_id,\n",
    "    data_unit=\"mM\",\n",
    "    time_unit=\"min\",\n",
    "    time=df2['Time_min'].tolist(),\n",
    "    data=df2['A11'].tolist()\n",
    ")\n",
    "\n",
    "\n",
    "\n",
    "# Add replicates to measurement\n",
    "measurement_13.addReplicates(repeat1, enzmldoc)\n",
    "measurement_13.addReplicates(repeat2, enzmldoc)\n",
    "\n",
    "# Add the measurement to the EnzymeML document\n",
    "meas_13_id = enzmldoc.addMeasurement(measurement_13)\n",
    "\n",
    "print(\"Measurement created for two repeats at ATP = 0.5 mM, PpanSH = 1 mM \")"
   ]
  },
  {
   "cell_type": "markdown",
   "id": "10538f0b",
   "metadata": {},
   "source": [
    "(14) Create measurment for first condition at ATP = 0.5mM and PpanSH = 0.5mM"
   ]
  },
  {
   "cell_type": "code",
   "execution_count": 15,
   "id": "fbba7356",
   "metadata": {},
   "outputs": [
    {
     "name": "stdout",
     "output_type": "stream",
     "text": [
      "Measurement created for two repeats at ATP = 0.5 mM, PpanSH = 0.5 mM \n"
     ]
    }
   ],
   "source": [
    "#Load your Excel file and read the sheets for each repeat\n",
    "df1 = pd.read_excel(r\"C:\\Users\\Francel\\Masters project\\Pyenzyme\\PPAT\\Run1-ATP_0_5.xlsx\")\n",
    "df2 = pd.read_excel(r\"C:\\Users\\Francel\\Masters project\\Pyenzyme\\PPAT\\Run2-ATP_0_5.xlsx\")\n",
    "\n",
    "# Create the Measurement object for one run at ATP = 0.5 mM\n",
    "measurement_14 = Measurement(\n",
    "    name=\"Run 14 - ATP = 0.5mM\", temperature=25, temperature_unit=\"C\",\n",
    "    ph=7.8, global_time_unit=\"mins\"\n",
    ")\n",
    "\n",
    "# Add initial concentrations for reactants\n",
    "measurement_14.addData(reactant_id=PpanSH_id, init_conc=0.5, unit=\"mM\")\n",
    "measurement_14.addData(reactant_id=ATP_id, init_conc=0.5, unit=\"mM\")\n",
    "measurement_14.addData(protein_id=PPAT_id, init_conc=0.1, unit=\"mg/ml\")\n",
    "\n",
    "# Convert time and data columns to lists before passing to Replicate\n",
    "repeat1 = Replicate(\n",
    "    id=\"repeat1 for ATP = 0.5 mM @ 0.5 mM PpanSH\",\n",
    "    species_id=ATP_id,\n",
    "    data_unit=\"mM\",\n",
    "    time_unit=\"min\",\n",
    "    time=df1['Time_min'].tolist(),\n",
    "    data=df1['B09'].tolist()\n",
    ")\n",
    "\n",
    "repeat2 = Replicate(\n",
    "    id=\"repeat2 for ATP = 0.5 mM @ 0.5 mM PpanSH\",\n",
    "    species_id=ATP_id,\n",
    "    data_unit=\"mM\",\n",
    "    time_unit=\"min\",\n",
    "    time=df2['Time_min'].tolist(),\n",
    "    data=df2['B11'].tolist()\n",
    ")\n",
    "\n",
    "\n",
    "\n",
    "# Add replicates to measurement\n",
    "measurement_14.addReplicates(repeat1, enzmldoc)\n",
    "measurement_14.addReplicates(repeat2, enzmldoc)\n",
    "\n",
    "# Add the measurement to the EnzymeML document\n",
    "meas_14_id = enzmldoc.addMeasurement(measurement_14)\n",
    "\n",
    "print(\"Measurement created for two repeats at ATP = 0.5 mM, PpanSH = 0.5 mM \")"
   ]
  },
  {
   "cell_type": "markdown",
   "id": "24ceb169",
   "metadata": {},
   "source": [
    "(15) Create measurment for first condition at ATP = 0.5mM and PpanSH = 0.25mM"
   ]
  },
  {
   "cell_type": "code",
   "execution_count": 16,
   "id": "613555a4",
   "metadata": {},
   "outputs": [
    {
     "name": "stdout",
     "output_type": "stream",
     "text": [
      "Measurement created for two repeats at ATP = 0.5 mM, PpanSH = 0.25 mM \n"
     ]
    }
   ],
   "source": [
    "#Load your Excel file and read the sheets for each repeat\n",
    "df1 = pd.read_excel(r\"C:\\Users\\Francel\\Masters project\\Pyenzyme\\PPAT\\Run1-ATP_0_5.xlsx\")\n",
    "df2 = pd.read_excel(r\"C:\\Users\\Francel\\Masters project\\Pyenzyme\\PPAT\\Run2-ATP_0_5.xlsx\")\n",
    "\n",
    "# Create the Measurement object for one run at ATP = 0.5 mM\n",
    "measurement_15 = Measurement(\n",
    "    name=\"Run 15 - ATP = 0.5mM\", temperature=25, temperature_unit=\"C\",\n",
    "    ph=7.8, global_time_unit=\"mins\"\n",
    ")\n",
    "\n",
    "# Add initial concentrations for reactants\n",
    "measurement_15.addData(reactant_id=PpanSH_id, init_conc=0.25, unit=\"mM\")\n",
    "measurement_15.addData(reactant_id=ATP_id, init_conc=0.5, unit=\"mM\")\n",
    "measurement_15.addData(protein_id=PPAT_id, init_conc=0.1, unit=\"mg/ml\")\n",
    "\n",
    "# Convert time and data columns to lists before passing to Replicate\n",
    "repeat1 = Replicate(\n",
    "    id=\"repeat1 for ATP = 0.5 mM @ 0.25 mM PpanSH\",\n",
    "    species_id=ATP_id,\n",
    "    data_unit=\"mM\",\n",
    "    time_unit=\"min\",\n",
    "    time=df1['Time_min'].tolist(),\n",
    "    data=df1['C09'].tolist()\n",
    ")\n",
    "\n",
    "repeat2 = Replicate(\n",
    "    id=\"repeat2 for ATP = 0.5 mM @ 0.25 mM PpanSH\",\n",
    "    species_id=ATP_id,\n",
    "    data_unit=\"mM\",\n",
    "    time_unit=\"min\",\n",
    "    time=df2['Time_min'].tolist(),\n",
    "    data=df2['C11'].tolist()\n",
    ")\n",
    "\n",
    "\n",
    "\n",
    "# Add replicates to measurement\n",
    "measurement_15.addReplicates(repeat1, enzmldoc)\n",
    "measurement_15.addReplicates(repeat2, enzmldoc)\n",
    "\n",
    "# Add the measurement to the EnzymeML document\n",
    "meas_15_id = enzmldoc.addMeasurement(measurement_15)\n",
    "\n",
    "print(\"Measurement created for two repeats at ATP = 0.5 mM, PpanSH = 0.25 mM \")"
   ]
  },
  {
   "cell_type": "markdown",
   "id": "e1102bd2",
   "metadata": {},
   "source": [
    "(16) Create measurment for first condition at ATP = 0.5mM and PpanSH = 0.125mM"
   ]
  },
  {
   "cell_type": "code",
   "execution_count": 17,
   "id": "ab3b0c89",
   "metadata": {},
   "outputs": [
    {
     "name": "stdout",
     "output_type": "stream",
     "text": [
      "Measurement created for two repeats at ATP = 0.5 mM, PpanSH = 0.125 mM \n"
     ]
    }
   ],
   "source": [
    "#Load your Excel file and read the sheets for each repeat\n",
    "df1 = pd.read_excel(r\"C:\\Users\\Francel\\Masters project\\Pyenzyme\\PPAT\\Run1-ATP_0_5.xlsx\")\n",
    "df2 = pd.read_excel(r\"C:\\Users\\Francel\\Masters project\\Pyenzyme\\PPAT\\Run2-ATP_0_5.xlsx\")\n",
    "\n",
    "# Create the Measurement object for one run at ATP = 0.5 mM\n",
    "measurement_16 = Measurement(\n",
    "    name=\"Run 16 - ATP = 0.5mM\", temperature=25, temperature_unit=\"C\",\n",
    "    ph=7.8, global_time_unit=\"mins\"\n",
    ")\n",
    "\n",
    "# Add initial concentrations for reactants\n",
    "measurement_16.addData(reactant_id=PpanSH_id, init_conc=0.125, unit=\"mM\")\n",
    "measurement_16.addData(reactant_id=ATP_id, init_conc=0.5, unit=\"mM\")\n",
    "measurement_16.addData(protein_id=PPAT_id, init_conc=0.1, unit=\"mg/ml\")\n",
    "\n",
    "# Convert time and data columns to lists before passing to Replicate\n",
    "repeat1 = Replicate(\n",
    "    id=\"repeat1 for ATP = 0.5 mM @ 0.125 mM PpanSH\",\n",
    "    species_id=ATP_id,\n",
    "    data_unit=\"mM\",\n",
    "    time_unit=\"min\",\n",
    "    time=df1['Time_min'].tolist(),\n",
    "    data=df1['D09'].tolist()\n",
    ")\n",
    "\n",
    "repeat2 = Replicate(\n",
    "    id=\"repeat2 for ATP = 0.5 mM @ 0.125 mM PpanSH\",\n",
    "    species_id=ATP_id,\n",
    "    data_unit=\"mM\",\n",
    "    time_unit=\"min\",\n",
    "    time=df2['Time_min'].tolist(),\n",
    "    data=df2['D11'].tolist()\n",
    ")\n",
    "\n",
    "\n",
    "\n",
    "# Add replicates to measurement\n",
    "measurement_16.addReplicates(repeat1, enzmldoc)\n",
    "measurement_16.addReplicates(repeat2, enzmldoc)\n",
    "\n",
    "# Add the measurement to the EnzymeML document\n",
    "meas_16_id = enzmldoc.addMeasurement(measurement_16)\n",
    "\n",
    "print(\"Measurement created for two repeats at ATP = 0.5 mM, PpanSH = 0.125 mM \")"
   ]
  },
  {
   "cell_type": "markdown",
   "id": "1694d355",
   "metadata": {},
   "source": [
    "(17) Create measurment for first condition at ATP = 0.5mM and PpanSH = 0.0625mM"
   ]
  },
  {
   "cell_type": "code",
   "execution_count": 18,
   "id": "fe363444",
   "metadata": {},
   "outputs": [
    {
     "name": "stdout",
     "output_type": "stream",
     "text": [
      "Measurement created for two repeats at ATP = 0.5 mM, PpanSH = 0.0625 mM \n"
     ]
    }
   ],
   "source": [
    "#Load your Excel file and read the sheets for each repeat\n",
    "df1 = pd.read_excel(r\"C:\\Users\\Francel\\Masters project\\Pyenzyme\\PPAT\\Run1-ATP_0_5.xlsx\")\n",
    "df2 = pd.read_excel(r\"C:\\Users\\Francel\\Masters project\\Pyenzyme\\PPAT\\Run2-ATP_0_5.xlsx\")\n",
    "\n",
    "# Create the Measurement object for one run at ATP = 0.5 mM\n",
    "measurement_17 = Measurement(\n",
    "    name=\"Run 17 - ATP = 0.5mM\", temperature=25, temperature_unit=\"C\",\n",
    "    ph=7.8, global_time_unit=\"mins\"\n",
    ")\n",
    "\n",
    "# Add initial concentrations for reactants\n",
    "measurement_17.addData(reactant_id=PpanSH_id, init_conc=0.0625, unit=\"mM\")\n",
    "measurement_17.addData(reactant_id=ATP_id, init_conc=0.5, unit=\"mM\")\n",
    "measurement_17.addData(protein_id=PPAT_id, init_conc=0.1, unit=\"mg/ml\")\n",
    "\n",
    "# Convert time and data columns to lists before passing to Replicate\n",
    "repeat1 = Replicate(\n",
    "    id=\"repeat1 for ATP = 0.5 mM @ 0.0625 mM PpanSH\",\n",
    "    species_id=ATP_id,\n",
    "    data_unit=\"mM\",\n",
    "    time_unit=\"min\",\n",
    "    time=df1['Time_min'].tolist(),\n",
    "    data=df1['E09'].tolist()\n",
    ")\n",
    "\n",
    "repeat2 = Replicate(\n",
    "    id=\"repeat2 for ATP = 0.5 mM @ 0.0625 mM PpanSH\",\n",
    "    species_id=ATP_id,\n",
    "    data_unit=\"mM\",\n",
    "    time_unit=\"min\",\n",
    "    time=df2['Time_min'].tolist(),\n",
    "    data=df2['E11'].tolist()\n",
    ")\n",
    "\n",
    "\n",
    "\n",
    "# Add replicates to measurement\n",
    "measurement_17.addReplicates(repeat1, enzmldoc)\n",
    "measurement_17.addReplicates(repeat2, enzmldoc)\n",
    "\n",
    "# Add the measurement to the EnzymeML document\n",
    "meas_17_id = enzmldoc.addMeasurement(measurement_17)\n",
    "\n",
    "print(\"Measurement created for two repeats at ATP = 0.5 mM, PpanSH = 0.0625 mM \")"
   ]
  },
  {
   "cell_type": "markdown",
   "id": "a8d33dcb",
   "metadata": {},
   "source": [
    "(18) Create measurment for first condition at ATP = 0.5mM and PpanSH = 0.0312mM"
   ]
  },
  {
   "cell_type": "code",
   "execution_count": 19,
   "id": "235a706f",
   "metadata": {},
   "outputs": [
    {
     "name": "stdout",
     "output_type": "stream",
     "text": [
      "Measurement created for two repeats at ATP = 0.5 mM, PpanSH = 0.0312 mM \n"
     ]
    }
   ],
   "source": [
    "#Load your Excel file and read the sheets for each repeat\n",
    "df1 = pd.read_excel(r\"C:\\Users\\Francel\\Masters project\\Pyenzyme\\PPAT\\Run1-ATP_0_5.xlsx\")\n",
    "df2 = pd.read_excel(r\"C:\\Users\\Francel\\Masters project\\Pyenzyme\\PPAT\\Run2-ATP_0_5.xlsx\")\n",
    "\n",
    "# Create the Measurement object for one run at ATP = 0.5 mM\n",
    "measurement_18 = Measurement(\n",
    "    name=\"Run 18 - ATP = 0.5mM\", temperature=25, temperature_unit=\"C\",\n",
    "    ph=7.8, global_time_unit=\"mins\"\n",
    ")\n",
    "\n",
    "# Add initial concentrations for reactants\n",
    "measurement_18.addData(reactant_id=PpanSH_id, init_conc=0.0312, unit=\"mM\")\n",
    "measurement_18.addData(reactant_id=ATP_id, init_conc=0.5, unit=\"mM\")\n",
    "measurement_18.addData(protein_id=PPAT_id, init_conc=0.1, unit=\"mg/ml\")\n",
    "\n",
    "# Convert time and data columns to lists before passing to Replicate\n",
    "repeat1 = Replicate(\n",
    "    id=\"repeat1 for ATP = 0.5 mM @ 0.0312 mM PpanSH\",\n",
    "    species_id=ATP_id,\n",
    "    data_unit=\"mM\",\n",
    "    time_unit=\"min\",\n",
    "    time=df1['Time_min'].tolist(),\n",
    "    data=df1['F09'].tolist()\n",
    ")\n",
    "\n",
    "repeat2 = Replicate(\n",
    "    id=\"repeat2 for ATP = 0.5 mM @ 0.0312 mM PpanSH\",\n",
    "    species_id=ATP_id,\n",
    "    data_unit=\"mM\",\n",
    "    time_unit=\"min\",\n",
    "    time=df2['Time_min'].tolist(),\n",
    "    data=df2['F11'].tolist()\n",
    ")\n",
    "\n",
    "\n",
    "\n",
    "# Add replicates to measurement\n",
    "measurement_18.addReplicates(repeat1, enzmldoc)\n",
    "measurement_18.addReplicates(repeat2, enzmldoc)\n",
    "\n",
    "# Add the measurement to the EnzymeML document\n",
    "meas_18_id = enzmldoc.addMeasurement(measurement_18)\n",
    "\n",
    "print(\"Measurement created for two repeats at ATP = 0.5 mM, PpanSH = 0.0312 mM \")"
   ]
  },
  {
   "cell_type": "markdown",
   "id": "e82a423a",
   "metadata": {},
   "source": [
    "(19) Create measurment for first condition at ATP = 0.25mM and PpanSH = 1mM"
   ]
  },
  {
   "cell_type": "code",
   "execution_count": 20,
   "id": "2e3ac1a2",
   "metadata": {},
   "outputs": [
    {
     "name": "stdout",
     "output_type": "stream",
     "text": [
      "Measurement created for two repeats at ATP = 0.25 mM, PpanSH = 1 mM \n"
     ]
    }
   ],
   "source": [
    "#Load your Excel file and read the sheets for each repeat\n",
    "df1 = pd.read_excel(r\"C:\\Users\\Francel\\Masters project\\Pyenzyme\\PPAT\\Run1-ATP_0_25mM.xlsx\")\n",
    "df2 = pd.read_excel(r\"C:\\Users\\Francel\\Masters project\\Pyenzyme\\PPAT\\Run2-ATP_0_25mM.xlsx\")\n",
    "\n",
    "# Create the Measurement object for one run at ATP = 0.25 mM\n",
    "measurement_19 = Measurement(\n",
    "    name=\"Run 19 - ATP = 0.25mM\", temperature=25, temperature_unit=\"C\",\n",
    "    ph=7.8, global_time_unit=\"mins\"\n",
    ")\n",
    "\n",
    "# Add initial concentrations for reactants\n",
    "measurement_19.addData(reactant_id=PpanSH_id, init_conc=1, unit=\"mM\")\n",
    "measurement_19.addData(reactant_id=ATP_id, init_conc=0.25, unit=\"mM\")\n",
    "measurement_19.addData(protein_id=PPAT_id, init_conc=0.1, unit=\"mg/ml\")\n",
    "\n",
    "# Convert time and data columns to lists before passing to Replicate\n",
    "repeat1 = Replicate(\n",
    "    id=\"repeat1 for ATP = 0.25 mM @ 1 mM PpanSH\",\n",
    "    species_id=ATP_id,\n",
    "    data_unit=\"mM\",\n",
    "    time_unit=\"min\",\n",
    "    time=df1['Time_min'].tolist(),\n",
    "    data=df1['A01'].tolist()\n",
    ")\n",
    "\n",
    "repeat2 = Replicate(\n",
    "    id=\"repeat2 for ATP = 0.25 mM @ 1 mM PpanSH\",\n",
    "    species_id=ATP_id,\n",
    "    data_unit=\"mM\",\n",
    "    time_unit=\"min\",\n",
    "    time=df2['Time_min'].tolist(),\n",
    "    data=df2['A01'].tolist()\n",
    ")\n",
    "\n",
    "\n",
    "\n",
    "# Add replicates to measurement\n",
    "measurement_19.addReplicates(repeat1, enzmldoc)\n",
    "measurement_19.addReplicates(repeat2, enzmldoc)\n",
    "\n",
    "# Add the measurement to the EnzymeML document\n",
    "meas_19_id = enzmldoc.addMeasurement(measurement_19)\n",
    "\n",
    "print(\"Measurement created for two repeats at ATP = 0.25 mM, PpanSH = 1 mM \")"
   ]
  },
  {
   "cell_type": "markdown",
   "id": "63031691",
   "metadata": {},
   "source": [
    "(20) Create measurment for condition at ATP = 0.25mM and PpanSH = 0.5mM"
   ]
  },
  {
   "cell_type": "code",
   "execution_count": 21,
   "id": "1c40d7f4",
   "metadata": {},
   "outputs": [
    {
     "name": "stdout",
     "output_type": "stream",
     "text": [
      "Measurement created for two repeats at ATP = 0.25 mM, PpanSH = 0.5 mM \n"
     ]
    }
   ],
   "source": [
    "#Load your Excel file and read the sheets for each repeat\n",
    "df1 = pd.read_excel(r\"C:\\Users\\Francel\\Masters project\\Pyenzyme\\PPAT\\Run1-ATP_0_25mM.xlsx\")\n",
    "df2 = pd.read_excel(r\"C:\\Users\\Francel\\Masters project\\Pyenzyme\\PPAT\\Run2-ATP_0_25mM.xlsx\")\n",
    "\n",
    "# Create the Measurement object for one run at ATP = 0.25 mM\n",
    "measurement_20 = Measurement(\n",
    "    name=\"Run 20 - ATP = 0.25mM\", temperature=25, temperature_unit=\"C\",\n",
    "    ph=7.8, global_time_unit=\"mins\"\n",
    ")\n",
    "\n",
    "# Add initial concentrations for reactants\n",
    "measurement_20.addData(reactant_id=PpanSH_id, init_conc=0.5, unit=\"mM\")\n",
    "measurement_20.addData(reactant_id=ATP_id, init_conc=0.25, unit=\"mM\")\n",
    "measurement_20.addData(protein_id=PPAT_id, init_conc=0.1, unit=\"mg/ml\")\n",
    "\n",
    "# Convert time and data columns to lists before passing to Replicate\n",
    "repeat1 = Replicate(\n",
    "    id=\"repeat1 for ATP = 0.25 mM @ 0.5 mM PpanSH\",\n",
    "    species_id=ATP_id,\n",
    "    data_unit=\"mM\",\n",
    "    time_unit=\"min\",\n",
    "    time=df1['Time_min'].tolist(),\n",
    "    data=df1['B01'].tolist()\n",
    ")\n",
    "\n",
    "repeat2 = Replicate(\n",
    "    id=\"repeat2 for ATP = 0.25 mM @ 0.5 mM PpanSH\",\n",
    "    species_id=ATP_id,\n",
    "    data_unit=\"mM\",\n",
    "    time_unit=\"min\",\n",
    "    time=df2['Time_min'].tolist(),\n",
    "    data=df2['B01'].tolist()\n",
    ")\n",
    "\n",
    "\n",
    "\n",
    "# Add replicates to measurement\n",
    "measurement_20.addReplicates(repeat1, enzmldoc)\n",
    "measurement_20.addReplicates(repeat2, enzmldoc)\n",
    "\n",
    "# Add the measurement to the EnzymeML document\n",
    "meas_20_id = enzmldoc.addMeasurement(measurement_20)\n",
    "\n",
    "print(\"Measurement created for two repeats at ATP = 0.25 mM, PpanSH = 0.5 mM \")"
   ]
  },
  {
   "cell_type": "markdown",
   "id": "2026f2eb",
   "metadata": {},
   "source": [
    "(21) Create measurment for condition at ATP = 0.25mM and PpanSH = 0.25mM"
   ]
  },
  {
   "cell_type": "code",
   "execution_count": 22,
   "id": "5005cf65",
   "metadata": {},
   "outputs": [
    {
     "name": "stdout",
     "output_type": "stream",
     "text": [
      "Measurement created for two repeats at ATP = 0.25 mM, PpanSH = 0.25 mM \n"
     ]
    }
   ],
   "source": [
    "#Load your Excel file and read the sheets for each repeat\n",
    "df1 = pd.read_excel(r\"C:\\Users\\Francel\\Masters project\\Pyenzyme\\PPAT\\Run1-ATP_0_25mM.xlsx\")\n",
    "df2 = pd.read_excel(r\"C:\\Users\\Francel\\Masters project\\Pyenzyme\\PPAT\\Run2-ATP_0_25mM.xlsx\")\n",
    "\n",
    "# Create the Measurement object for one run at ATP = 0.25 mM\n",
    "measurement_21 = Measurement(\n",
    "    name=\"Run 21 - ATP = 0.25mM\", temperature=25, temperature_unit=\"C\",\n",
    "    ph=7.8, global_time_unit=\"mins\"\n",
    ")\n",
    "\n",
    "# Add initial concentrations for reactants\n",
    "measurement_21.addData(reactant_id=PpanSH_id, init_conc=0.25, unit=\"mM\")\n",
    "measurement_21.addData(reactant_id=ATP_id, init_conc=0.25, unit=\"mM\")\n",
    "measurement_21.addData(protein_id=PPAT_id, init_conc=0.1, unit=\"mg/ml\")\n",
    "\n",
    "# Convert time and data columns to lists before passing to Replicate\n",
    "repeat1 = Replicate(\n",
    "    id=\"repeat1 for ATP = 0.25 mM @ 0.25 mM PpanSH\",\n",
    "    species_id=ATP_id,\n",
    "    data_unit=\"mM\",\n",
    "    time_unit=\"min\",\n",
    "    time=df1['Time_min'].tolist(),\n",
    "    data=df1['C01'].tolist()\n",
    ")\n",
    "\n",
    "repeat2 = Replicate(\n",
    "    id=\"repeat2 for ATP = 0.25 mM @ 0.25 mM PpanSH\",\n",
    "    species_id=ATP_id,\n",
    "    data_unit=\"mM\",\n",
    "    time_unit=\"min\",\n",
    "    time=df2['Time_min'].tolist(),\n",
    "    data=df2['C01'].tolist()\n",
    ")\n",
    "\n",
    "\n",
    "\n",
    "# Add replicates to measurement\n",
    "measurement_21.addReplicates(repeat1, enzmldoc)\n",
    "measurement_21.addReplicates(repeat2, enzmldoc)\n",
    "\n",
    "# Add the measurement to the EnzymeML document\n",
    "meas_21_id = enzmldoc.addMeasurement(measurement_21)\n",
    "\n",
    "print(\"Measurement created for two repeats at ATP = 0.25 mM, PpanSH = 0.25 mM \")"
   ]
  },
  {
   "cell_type": "markdown",
   "id": "8e73016c",
   "metadata": {},
   "source": [
    "(22) Create measurment for condition at ATP = 0.25mM and PpanSH = 0.125mM"
   ]
  },
  {
   "cell_type": "code",
   "execution_count": 23,
   "id": "106b1769",
   "metadata": {},
   "outputs": [
    {
     "name": "stdout",
     "output_type": "stream",
     "text": [
      "Measurement created for two repeats at ATP = 0.25 mM, PpanSH = 0.125 mM \n"
     ]
    }
   ],
   "source": [
    "#Load your Excel file and read the sheets for each repeat\n",
    "df1 = pd.read_excel(r\"C:\\Users\\Francel\\Masters project\\Pyenzyme\\PPAT\\Run1-ATP_0_25mM.xlsx\")\n",
    "df2 = pd.read_excel(r\"C:\\Users\\Francel\\Masters project\\Pyenzyme\\PPAT\\Run2-ATP_0_25mM.xlsx\")\n",
    "\n",
    "# Create the Measurement object for one run at ATP = 0.25 mM\n",
    "measurement_22 = Measurement(\n",
    "    name=\"Run 22 - ATP = 0.25mM\", temperature=25, temperature_unit=\"C\",\n",
    "    ph=7.8, global_time_unit=\"mins\"\n",
    ")\n",
    "\n",
    "# Add initial concentrations for reactants\n",
    "measurement_22.addData(reactant_id=PpanSH_id, init_conc=0.125, unit=\"mM\")\n",
    "measurement_22.addData(reactant_id=ATP_id, init_conc=0.25, unit=\"mM\")\n",
    "measurement_22.addData(protein_id=PPAT_id, init_conc=0.1, unit=\"mg/ml\")\n",
    "\n",
    "# Convert time and data columns to lists before passing to Replicate\n",
    "repeat1 = Replicate(\n",
    "    id=\"repeat1 for ATP = 0.25 mM @ 0.125 mM PpanSH\",\n",
    "    species_id=ATP_id,\n",
    "    data_unit=\"mM\",\n",
    "    time_unit=\"min\",\n",
    "    time=df1['Time_min'].tolist(),\n",
    "    data=df1['D01'].tolist()\n",
    ")\n",
    "\n",
    "repeat2 = Replicate(\n",
    "    id=\"repeat2 for ATP = 0.25 mM @ 0.125 mM PpanSH\",\n",
    "    species_id=ATP_id,\n",
    "    data_unit=\"mM\",\n",
    "    time_unit=\"min\",\n",
    "    time=df2['Time_min'].tolist(),\n",
    "    data=df2['D01'].tolist()\n",
    ")\n",
    "\n",
    "\n",
    "\n",
    "# Add replicates to measurement\n",
    "measurement_22.addReplicates(repeat1, enzmldoc)\n",
    "measurement_22.addReplicates(repeat2, enzmldoc)\n",
    "\n",
    "# Add the measurement to the EnzymeML document\n",
    "meas_22_id = enzmldoc.addMeasurement(measurement_22)\n",
    "\n",
    "print(\"Measurement created for two repeats at ATP = 0.25 mM, PpanSH = 0.125 mM \")"
   ]
  },
  {
   "cell_type": "markdown",
   "id": "c4bfbd16",
   "metadata": {},
   "source": [
    "(23) Create measurment for condition at ATP = 0.25mM and PpanSH = 0.0625mM"
   ]
  },
  {
   "cell_type": "code",
   "execution_count": 24,
   "id": "8da3e8a8",
   "metadata": {},
   "outputs": [
    {
     "name": "stdout",
     "output_type": "stream",
     "text": [
      "Measurement created for two repeats at ATP = 0.25 mM, PpanSH = 0.0625 mM \n"
     ]
    }
   ],
   "source": [
    "#Load your Excel file and read the sheets for each repeat\n",
    "df1 = pd.read_excel(r\"C:\\Users\\Francel\\Masters project\\Pyenzyme\\PPAT\\Run1-ATP_0_25mM.xlsx\")\n",
    "df2 = pd.read_excel(r\"C:\\Users\\Francel\\Masters project\\Pyenzyme\\PPAT\\Run2-ATP_0_25mM.xlsx\")\n",
    "\n",
    "# Create the Measurement object for one run at ATP = 0.25 mM\n",
    "measurement_23 = Measurement(\n",
    "    name=\"Run 23 - ATP = 0.25mM\", temperature=25, temperature_unit=\"C\",\n",
    "    ph=7.8, global_time_unit=\"mins\"\n",
    ")\n",
    "\n",
    "# Add initial concentrations for reactants\n",
    "measurement_23.addData(reactant_id=PpanSH_id, init_conc=0.0625, unit=\"mM\")\n",
    "measurement_23.addData(reactant_id=ATP_id, init_conc=0.25, unit=\"mM\")\n",
    "measurement_23.addData(protein_id=PPAT_id, init_conc=0.1, unit=\"mg/ml\")\n",
    "\n",
    "# Convert time and data columns to lists before passing to Replicate\n",
    "repeat1 = Replicate(\n",
    "    id=\"repeat1 for ATP = 0.25 mM @ 0.0625 mM PpanSH\",\n",
    "    species_id=ATP_id,\n",
    "    data_unit=\"mM\",\n",
    "    time_unit=\"min\",\n",
    "    time=df1['Time_min'].tolist(),\n",
    "    data=df1['E01'].tolist()\n",
    ")\n",
    "\n",
    "repeat2 = Replicate(\n",
    "    id=\"repeat2 for ATP = 0.25 mM @ 0.0625 mM PpanSH\",\n",
    "    species_id=ATP_id,\n",
    "    data_unit=\"mM\",\n",
    "    time_unit=\"min\",\n",
    "    time=df2['Time_min'].tolist(),\n",
    "    data=df2['E01'].tolist()\n",
    ")\n",
    "\n",
    "\n",
    "\n",
    "# Add replicates to measurement\n",
    "measurement_23.addReplicates(repeat1, enzmldoc)\n",
    "measurement_23.addReplicates(repeat2, enzmldoc)\n",
    "\n",
    "# Add the measurement to the EnzymeML document\n",
    "meas_23_id = enzmldoc.addMeasurement(measurement_23)\n",
    "\n",
    "print(\"Measurement created for two repeats at ATP = 0.25 mM, PpanSH = 0.0625 mM \")"
   ]
  },
  {
   "cell_type": "markdown",
   "id": "9dff6af1",
   "metadata": {},
   "source": [
    "(24) Create measurment for condition at ATP = 0.25mM and PpanSH = 0.0312mM"
   ]
  },
  {
   "cell_type": "code",
   "execution_count": 25,
   "id": "443a4d6b",
   "metadata": {},
   "outputs": [
    {
     "name": "stdout",
     "output_type": "stream",
     "text": [
      "Measurement created for two repeats at ATP = 0.25 mM, PpanSH = 0.0312 mM \n"
     ]
    }
   ],
   "source": [
    "#Load your Excel file and read the sheets for each repeat\n",
    "df1 = pd.read_excel(r\"C:\\Users\\Francel\\Masters project\\Pyenzyme\\PPAT\\Run1-ATP_0_25mM.xlsx\")\n",
    "df2 = pd.read_excel(r\"C:\\Users\\Francel\\Masters project\\Pyenzyme\\PPAT\\Run2-ATP_0_25mM.xlsx\")\n",
    "\n",
    "# Create the Measurement object for one run at ATP = 0.25 mM\n",
    "measurement_24 = Measurement(\n",
    "    name=\"Run 24 - ATP = 0.25mM\", temperature=25, temperature_unit=\"C\",\n",
    "    ph=7.8, global_time_unit=\"mins\"\n",
    ")\n",
    "\n",
    "# Add initial concentrations for reactants\n",
    "measurement_24.addData(reactant_id=PpanSH_id, init_conc=0.0312, unit=\"mM\")\n",
    "measurement_24.addData(reactant_id=ATP_id, init_conc=0.25, unit=\"mM\")\n",
    "measurement_24.addData(protein_id=PPAT_id, init_conc=0.1, unit=\"mg/ml\")\n",
    "\n",
    "# Convert time and data columns to lists before passing to Replicate\n",
    "repeat1 = Replicate(\n",
    "    id=\"repeat1 for ATP = 0.25 mM @ 0.0312 mM PpanSH\",\n",
    "    species_id=ATP_id,\n",
    "    data_unit=\"mM\",\n",
    "    time_unit=\"min\",\n",
    "    time=df1['Time_min'].tolist(),\n",
    "    data=df1['F01'].tolist()\n",
    ")\n",
    "\n",
    "repeat2 = Replicate(\n",
    "    id=\"repeat2 for ATP = 0.25 mM @ 0.0312 mM PpanSH\",\n",
    "    species_id=ATP_id,\n",
    "    data_unit=\"mM\",\n",
    "    time_unit=\"min\",\n",
    "    time=df2['Time_min'].tolist(),\n",
    "    data=df2['F01'].tolist()\n",
    ")\n",
    "\n",
    "\n",
    "\n",
    "# Add replicates to measurement\n",
    "measurement_24.addReplicates(repeat1, enzmldoc)\n",
    "measurement_24.addReplicates(repeat2, enzmldoc)\n",
    "\n",
    "# Add the measurement to the EnzymeML document\n",
    "meas_24_id = enzmldoc.addMeasurement(measurement_24)\n",
    "\n",
    "print(\"Measurement created for two repeats at ATP = 0.25 mM, PpanSH = 0.0312 mM \")"
   ]
  },
  {
   "cell_type": "markdown",
   "id": "b20018f4",
   "metadata": {},
   "source": [
    "(25) Create measurment for first condition at ATP = 0.125mM and PpanSH = 1mM"
   ]
  },
  {
   "cell_type": "code",
   "execution_count": 26,
   "id": "5505f690",
   "metadata": {},
   "outputs": [
    {
     "name": "stdout",
     "output_type": "stream",
     "text": [
      "Measurement created for two repeats at ATP = 0.125 mM, PpanSH = 1 mM \n"
     ]
    }
   ],
   "source": [
    "#Load your Excel file and read the sheets for each repeat\n",
    "df1 = pd.read_excel(r\"C:\\Users\\Francel\\Masters project\\Pyenzyme\\PPAT\\Run1-ATP_0_125mM.xlsx\")\n",
    "df2 = pd.read_excel(r\"C:\\Users\\Francel\\Masters project\\Pyenzyme\\PPAT\\Run2-ATP_0_125mM.xlsx\")\n",
    "\n",
    "# Create the Measurement object for one run at ATP = 0.125 mM\n",
    "measurement_25 = Measurement(\n",
    "    name=\"Run 25 - ATP = 0.125mM\", temperature=25, temperature_unit=\"C\",\n",
    "    ph=7.8, global_time_unit=\"mins\"\n",
    ")\n",
    "\n",
    "# Add initial concentrations for reactants\n",
    "measurement_25.addData(reactant_id=PpanSH_id, init_conc=1, unit=\"mM\")\n",
    "measurement_25.addData(reactant_id=ATP_id, init_conc=0.125, unit=\"mM\")\n",
    "measurement_25.addData(protein_id=PPAT_id, init_conc=0.1, unit=\"mg/ml\")\n",
    "\n",
    "# Convert time and data columns to lists before passing to Replicate\n",
    "repeat1 = Replicate(\n",
    "    id=\"repeat1 for ATP = 0.125 mM @ 1 mM PpanSH\",\n",
    "    species_id=ATP_id,\n",
    "    data_unit=\"mM\",\n",
    "    time_unit=\"min\",\n",
    "    time=df1['Time_min'].tolist(),\n",
    "    data=df1['A03'].tolist()\n",
    ")\n",
    "\n",
    "repeat2 = Replicate(\n",
    "    id=\"repeat2 for ATP = 0.125 mM @ 1 mM PpanSH\",\n",
    "    species_id=ATP_id,\n",
    "    data_unit=\"mM\",\n",
    "    time_unit=\"min\",\n",
    "    time=df2['Time_min'].tolist(),\n",
    "    data=df2['A06'].tolist()\n",
    ")\n",
    "\n",
    "\n",
    "\n",
    "# Add replicates to measurement\n",
    "measurement_25.addReplicates(repeat1, enzmldoc)\n",
    "measurement_25.addReplicates(repeat2, enzmldoc)\n",
    "\n",
    "# Add the measurement to the EnzymeML document\n",
    "meas_25_id = enzmldoc.addMeasurement(measurement_25)\n",
    "\n",
    "print(\"Measurement created for two repeats at ATP = 0.125 mM, PpanSH = 1 mM \")"
   ]
  },
  {
   "cell_type": "markdown",
   "id": "227847bb",
   "metadata": {},
   "source": [
    "(26) Create measurment for condition at ATP = 0.125mM and PpanSH = 0.5mM"
   ]
  },
  {
   "cell_type": "code",
   "execution_count": 27,
   "id": "c5bc2760",
   "metadata": {},
   "outputs": [
    {
     "name": "stdout",
     "output_type": "stream",
     "text": [
      "Measurement created for two repeats at ATP = 0.125 mM, PpanSH = 0.5 mM \n"
     ]
    }
   ],
   "source": [
    "#Load your Excel file and read the sheets for each repeat\n",
    "df1 = pd.read_excel(r\"C:\\Users\\Francel\\Masters project\\Pyenzyme\\PPAT\\Run1-ATP_0_125mM.xlsx\")\n",
    "df2 = pd.read_excel(r\"C:\\Users\\Francel\\Masters project\\Pyenzyme\\PPAT\\Run2-ATP_0_125mM.xlsx\")\n",
    "\n",
    "# Create the Measurement object for one run at ATP = 0.125 mM\n",
    "measurement_26 = Measurement(\n",
    "    name=\"Run 26 - ATP = 0.125mM\", temperature=25, temperature_unit=\"C\",\n",
    "    ph=7.8, global_time_unit=\"mins\"\n",
    ")\n",
    "\n",
    "# Add initial concentrations for reactants\n",
    "measurement_26.addData(reactant_id=PpanSH_id, init_conc=0.5, unit=\"mM\")\n",
    "measurement_26.addData(reactant_id=ATP_id, init_conc=0.125, unit=\"mM\")\n",
    "measurement_26.addData(protein_id=PPAT_id, init_conc=0.1, unit=\"mg/ml\")\n",
    "\n",
    "# Convert time and data columns to lists before passing to Replicate\n",
    "repeat1 = Replicate(\n",
    "    id=\"repeat1 for ATP = 0.125 mM @ 0.5 mM PpanSH\",\n",
    "    species_id=ATP_id,\n",
    "    data_unit=\"mM\",\n",
    "    time_unit=\"min\",\n",
    "    time=df1['Time_min'].tolist(),\n",
    "    data=df1['B03'].tolist()\n",
    ")\n",
    "\n",
    "repeat2 = Replicate(\n",
    "    id=\"repeat2 for ATP = 0.125 mM @ 0.5 mM PpanSH\",\n",
    "    species_id=ATP_id,\n",
    "    data_unit=\"mM\",\n",
    "    time_unit=\"min\",\n",
    "    time=df2['Time_min'].tolist(),\n",
    "    data=df2['B06'].tolist()\n",
    ")\n",
    "\n",
    "\n",
    "\n",
    "# Add replicates to measurement\n",
    "measurement_26.addReplicates(repeat1, enzmldoc)\n",
    "measurement_26.addReplicates(repeat2, enzmldoc)\n",
    "\n",
    "# Add the measurement to the EnzymeML document\n",
    "meas_26_id = enzmldoc.addMeasurement(measurement_26)\n",
    "\n",
    "print(\"Measurement created for two repeats at ATP = 0.125 mM, PpanSH = 0.5 mM \")"
   ]
  },
  {
   "cell_type": "markdown",
   "id": "579e6ccf",
   "metadata": {},
   "source": [
    "(27) Create measurment for condition at ATP = 0.125mM and PpanSH = 0.25mM"
   ]
  },
  {
   "cell_type": "code",
   "execution_count": 28,
   "id": "854f795a",
   "metadata": {},
   "outputs": [
    {
     "name": "stdout",
     "output_type": "stream",
     "text": [
      "Measurement created for two repeats at ATP = 0.125 mM, PpanSH = 0.25 mM \n"
     ]
    }
   ],
   "source": [
    "#Load your Excel file and read the sheets for each repeat\n",
    "df1 = pd.read_excel(r\"C:\\Users\\Francel\\Masters project\\Pyenzyme\\PPAT\\Run1-ATP_0_125mM.xlsx\")\n",
    "df2 = pd.read_excel(r\"C:\\Users\\Francel\\Masters project\\Pyenzyme\\PPAT\\Run2-ATP_0_125mM.xlsx\")\n",
    "\n",
    "# Create the Measurement object for one run at ATP = 0.125 mM\n",
    "measurement_27 = Measurement(\n",
    "    name=\"Run 27 - ATP = 0.125mM\", temperature=25, temperature_unit=\"C\",\n",
    "    ph=7.8, global_time_unit=\"mins\"\n",
    ")\n",
    "\n",
    "# Add initial concentrations for reactants\n",
    "measurement_27.addData(reactant_id=PpanSH_id, init_conc=0.25, unit=\"mM\")\n",
    "measurement_27.addData(reactant_id=ATP_id, init_conc=0.125, unit=\"mM\")\n",
    "measurement_27.addData(protein_id=PPAT_id, init_conc=0.1, unit=\"mg/ml\")\n",
    "\n",
    "# Convert time and data columns to lists before passing to Replicate\n",
    "repeat1 = Replicate(\n",
    "    id=\"repeat1 for ATP = 0.125 mM @ 0.25 mM PpanSH\",\n",
    "    species_id=ATP_id,\n",
    "    data_unit=\"mM\",\n",
    "    time_unit=\"min\",\n",
    "    time=df1['Time_min'].tolist(),\n",
    "    data=df1['C03'].tolist()\n",
    ")\n",
    "\n",
    "repeat2 = Replicate(\n",
    "    id=\"repeat2 for ATP = 0.125 mM @ 0.25 mM PpanSH\",\n",
    "    species_id=ATP_id,\n",
    "    data_unit=\"mM\",\n",
    "    time_unit=\"min\",\n",
    "    time=df2['Time_min'].tolist(),\n",
    "    data=df2['C06'].tolist()\n",
    ")\n",
    "\n",
    "\n",
    "\n",
    "# Add replicates to measurement\n",
    "measurement_27.addReplicates(repeat1, enzmldoc)\n",
    "measurement_27.addReplicates(repeat2, enzmldoc)\n",
    "\n",
    "# Add the measurement to the EnzymeML document\n",
    "meas_27_id = enzmldoc.addMeasurement(measurement_27)\n",
    "\n",
    "print(\"Measurement created for two repeats at ATP = 0.125 mM, PpanSH = 0.25 mM \")"
   ]
  },
  {
   "cell_type": "markdown",
   "id": "f74e9148",
   "metadata": {},
   "source": [
    "(28) Create measurment for condition at ATP = 0.125mM and PpanSH = 0.125mM"
   ]
  },
  {
   "cell_type": "code",
   "execution_count": 29,
   "id": "84e65c68",
   "metadata": {},
   "outputs": [
    {
     "name": "stdout",
     "output_type": "stream",
     "text": [
      "Measurement created for two repeats at ATP = 0.125 mM, PpanSH = 0.125 mM \n"
     ]
    }
   ],
   "source": [
    "#Load your Excel file and read the sheets for each repeat\n",
    "df1 = pd.read_excel(r\"C:\\Users\\Francel\\Masters project\\Pyenzyme\\PPAT\\Run1-ATP_0_125mM.xlsx\")\n",
    "df2 = pd.read_excel(r\"C:\\Users\\Francel\\Masters project\\Pyenzyme\\PPAT\\Run2-ATP_0_125mM.xlsx\")\n",
    "\n",
    "# Create the Measurement object for one run at ATP = 0.125 mM\n",
    "measurement_28 = Measurement(\n",
    "    name=\"Run 28 - ATP = 0.125mM\", temperature=25, temperature_unit=\"C\",\n",
    "    ph=7.8, global_time_unit=\"mins\"\n",
    ")\n",
    "\n",
    "# Add initial concentrations for reactants\n",
    "measurement_28.addData(reactant_id=PpanSH_id, init_conc=0.125, unit=\"mM\")\n",
    "measurement_28.addData(reactant_id=ATP_id, init_conc=0.125, unit=\"mM\")\n",
    "measurement_28.addData(protein_id=PPAT_id, init_conc=0.1, unit=\"mg/ml\")\n",
    "\n",
    "# Convert time and data columns to lists before passing to Replicate\n",
    "repeat1 = Replicate(\n",
    "    id=\"repeat1 for ATP = 0.125 mM @ 0.125 mM PpanSH\",\n",
    "    species_id=ATP_id,\n",
    "    data_unit=\"mM\",\n",
    "    time_unit=\"min\",\n",
    "    time=df1['Time_min'].tolist(),\n",
    "    data=df1['D03'].tolist()\n",
    ")\n",
    "\n",
    "repeat2 = Replicate(\n",
    "    id=\"repeat2 for ATP = 0.125 mM @ 0.125 mM PpanSH\",\n",
    "    species_id=ATP_id,\n",
    "    data_unit=\"mM\",\n",
    "    time_unit=\"min\",\n",
    "    time=df2['Time_min'].tolist(),\n",
    "    data=df2['D06'].tolist()\n",
    ")\n",
    "\n",
    "\n",
    "\n",
    "# Add replicates to measurement\n",
    "measurement_28.addReplicates(repeat1, enzmldoc)\n",
    "measurement_28.addReplicates(repeat2, enzmldoc)\n",
    "\n",
    "# Add the measurement to the EnzymeML document\n",
    "meas_28_id = enzmldoc.addMeasurement(measurement_28)\n",
    "\n",
    "print(\"Measurement created for two repeats at ATP = 0.125 mM, PpanSH = 0.125 mM \")"
   ]
  },
  {
   "cell_type": "markdown",
   "id": "74205382",
   "metadata": {},
   "source": [
    "(29) Create measurment for condition at ATP = 0.125mM and PpanSH = 0.0625mM"
   ]
  },
  {
   "cell_type": "code",
   "execution_count": 30,
   "id": "90239933",
   "metadata": {},
   "outputs": [
    {
     "name": "stdout",
     "output_type": "stream",
     "text": [
      "Measurement created for two repeats at ATP = 0.125 mM, PpanSH = 0.0625 mM \n"
     ]
    }
   ],
   "source": [
    "#Load your Excel file and read the sheets for each repeat\n",
    "df1 = pd.read_excel(r\"C:\\Users\\Francel\\Masters project\\Pyenzyme\\PPAT\\Run1-ATP_0_125mM.xlsx\")\n",
    "df2 = pd.read_excel(r\"C:\\Users\\Francel\\Masters project\\Pyenzyme\\PPAT\\Run2-ATP_0_125mM.xlsx\")\n",
    "\n",
    "# Create the Measurement object for one run at ATP = 0.125 mM\n",
    "measurement_29 = Measurement(\n",
    "    name=\"Run 29 - ATP = 0.125mM\", temperature=25, temperature_unit=\"C\",\n",
    "    ph=7.8, global_time_unit=\"mins\"\n",
    ")\n",
    "\n",
    "# Add initial concentrations for reactants\n",
    "measurement_29.addData(reactant_id=PpanSH_id, init_conc=0.0625, unit=\"mM\")\n",
    "measurement_29.addData(reactant_id=ATP_id, init_conc=0.125, unit=\"mM\")\n",
    "measurement_29.addData(protein_id=PPAT_id, init_conc=0.1, unit=\"mg/ml\")\n",
    "\n",
    "# Convert time and data columns to lists before passing to Replicate\n",
    "repeat1 = Replicate(\n",
    "    id=\"repeat1 for ATP = 0.125 mM @ 0.0625 mM PpanSH\",\n",
    "    species_id=ATP_id,\n",
    "    data_unit=\"mM\",\n",
    "    time_unit=\"min\",\n",
    "    time=df1['Time_min'].tolist(),\n",
    "    data=df1['E03'].tolist()\n",
    ")\n",
    "\n",
    "repeat2 = Replicate(\n",
    "    id=\"repeat2 for ATP = 0.125 mM @ 0.0625 mM PpanSH\",\n",
    "    species_id=ATP_id,\n",
    "    data_unit=\"mM\",\n",
    "    time_unit=\"min\",\n",
    "    time=df2['Time_min'].tolist(),\n",
    "    data=df2['E06'].tolist()\n",
    ")\n",
    "\n",
    "\n",
    "\n",
    "# Add replicates to measurement\n",
    "measurement_29.addReplicates(repeat1, enzmldoc)\n",
    "measurement_29.addReplicates(repeat2, enzmldoc)\n",
    "\n",
    "# Add the measurement to the EnzymeML document\n",
    "meas_29_id = enzmldoc.addMeasurement(measurement_29)\n",
    "\n",
    "print(\"Measurement created for two repeats at ATP = 0.125 mM, PpanSH = 0.0625 mM \")"
   ]
  },
  {
   "cell_type": "markdown",
   "id": "41876e51",
   "metadata": {},
   "source": [
    "(30) Create measurment for condition at ATP = 0.125mM and PpanSH = 0.0312mM"
   ]
  },
  {
   "cell_type": "code",
   "execution_count": 31,
   "id": "436ef278",
   "metadata": {},
   "outputs": [
    {
     "name": "stdout",
     "output_type": "stream",
     "text": [
      "Measurement created for two repeats at ATP = 0.125 mM, PpanSH = 0.0312 mM \n"
     ]
    }
   ],
   "source": [
    "#Load your Excel file and read the sheets for each repeat\n",
    "df1 = pd.read_excel(r\"C:\\Users\\Francel\\Masters project\\Pyenzyme\\PPAT\\Run1-ATP_0_125mM.xlsx\")\n",
    "df2 = pd.read_excel(r\"C:\\Users\\Francel\\Masters project\\Pyenzyme\\PPAT\\Run2-ATP_0_125mM.xlsx\")\n",
    "\n",
    "# Create the Measurement object for one run at ATP = 0.125 mM\n",
    "measurement_30 = Measurement(\n",
    "    name=\"Run 30 - ATP = 0.125mM\", temperature=25, temperature_unit=\"C\",\n",
    "    ph=7.8, global_time_unit=\"mins\"\n",
    ")\n",
    "\n",
    "# Add initial concentrations for reactants\n",
    "measurement_30.addData(reactant_id=PpanSH_id, init_conc=0.0312, unit=\"mM\")\n",
    "measurement_30.addData(reactant_id=ATP_id, init_conc=0.125, unit=\"mM\")\n",
    "measurement_30.addData(protein_id=PPAT_id, init_conc=0.1, unit=\"mg/ml\")\n",
    "\n",
    "# Convert time and data columns to lists before passing to Replicate\n",
    "repeat1 = Replicate(\n",
    "    id=\"repeat1 for ATP = 0.125 mM @ 0.0312 mM PpanSH\",\n",
    "    species_id=ATP_id,\n",
    "    data_unit=\"mM\",\n",
    "    time_unit=\"min\",\n",
    "    time=df1['Time_min'].tolist(),\n",
    "    data=df1['F03'].tolist()\n",
    ")\n",
    "\n",
    "repeat2 = Replicate(\n",
    "    id=\"repeat2 for ATP = 0.125 mM @ 0.0312 mM PpanSH\",\n",
    "    species_id=ATP_id,\n",
    "    data_unit=\"mM\",\n",
    "    time_unit=\"min\",\n",
    "    time=df2['Time_min'].tolist(),\n",
    "    data=df2['F06'].tolist()\n",
    ")\n",
    "\n",
    "\n",
    "\n",
    "# Add replicates to measurement\n",
    "measurement_30.addReplicates(repeat1, enzmldoc)\n",
    "measurement_30.addReplicates(repeat2, enzmldoc)\n",
    "\n",
    "# Add the measurement to the EnzymeML document\n",
    "meas_30_id = enzmldoc.addMeasurement(measurement_30)\n",
    "\n",
    "print(\"Measurement created for two repeats at ATP = 0.125 mM, PpanSH = 0.0312 mM \")"
   ]
  },
  {
   "cell_type": "markdown",
   "id": "72c3cb88",
   "metadata": {},
   "source": [
    "(31) Create measurment for first condition at ATP = 0.0625mM and PpanSH = 1mM"
   ]
  },
  {
   "cell_type": "code",
   "execution_count": 34,
   "id": "c1a05f54",
   "metadata": {},
   "outputs": [
    {
     "name": "stdout",
     "output_type": "stream",
     "text": [
      "Measurement created for two repeats at ATP = 0.0625 mM, PpanSH = 1 mM \n"
     ]
    }
   ],
   "source": [
    "#Load your Excel file and read the sheets for each repeat\n",
    "df1 = pd.read_excel(r\"C:\\Users\\Francel\\Masters project\\Pyenzyme\\PPAT\\Run1-ATP_0_0625mM.xlsx\")\n",
    "df2 = pd.read_excel(r\"C:\\Users\\Francel\\Masters project\\Pyenzyme\\PPAT\\Run2-ATP_0_0625mM.xlsx\")\n",
    "\n",
    "# Create the Measurement object for one run at ATP = 0.0625 mM\n",
    "measurement_31 = Measurement(\n",
    "    name=\"Run 31 - ATP = 0.0625mM\", temperature=25, temperature_unit=\"C\",\n",
    "    ph=7.8, global_time_unit=\"mins\"\n",
    ")\n",
    "\n",
    "# Add initial concentrations for reactants\n",
    "measurement_31.addData(reactant_id=PpanSH_id, init_conc=1, unit=\"mM\")\n",
    "measurement_31.addData(reactant_id=ATP_id, init_conc=0.0625, unit=\"mM\")\n",
    "measurement_31.addData(protein_id=PPAT_id, init_conc=0.1, unit=\"mg/ml\")\n",
    "\n",
    "# Convert time and data columns to lists before passing to Replicate\n",
    "repeat1 = Replicate(\n",
    "    id=\"repeat1 for ATP = 0.0625 mM @ 1 mM PpanSH\",\n",
    "    species_id=ATP_id,\n",
    "    data_unit=\"mM\",\n",
    "    time_unit=\"min\",\n",
    "    time=df1['Time_min'].tolist(),\n",
    "    data=df1['A08'].tolist()\n",
    ")\n",
    "\n",
    "repeat2 = Replicate(\n",
    "    id=\"repeat2 for ATP = 0.0625 mM @ 1 mM PpanSH\",\n",
    "    species_id=ATP_id,\n",
    "    data_unit=\"mM\",\n",
    "    time_unit=\"min\",\n",
    "    time=df2['Time_min'].tolist(),\n",
    "    data=df2['A10'].tolist()\n",
    ")\n",
    "\n",
    "\n",
    "\n",
    "# Add replicates to measurement\n",
    "measurement_31.addReplicates(repeat1, enzmldoc)\n",
    "measurement_31.addReplicates(repeat2, enzmldoc)\n",
    "\n",
    "# Add the measurement to the EnzymeML document\n",
    "meas_31_id = enzmldoc.addMeasurement(measurement_31)\n",
    "\n",
    "print(\"Measurement created for two repeats at ATP = 0.0625 mM, PpanSH = 1 mM \")"
   ]
  },
  {
   "cell_type": "markdown",
   "id": "71f36f65",
   "metadata": {},
   "source": [
    "(32) Create measurment for condition at ATP = 0.0625mM and PpanSH = 0.5mM"
   ]
  },
  {
   "cell_type": "code",
   "execution_count": 35,
   "id": "a770183e",
   "metadata": {},
   "outputs": [
    {
     "name": "stdout",
     "output_type": "stream",
     "text": [
      "Measurement created for two repeats at ATP = 0.0625 mM, PpanSH = 0.5 mM \n"
     ]
    }
   ],
   "source": [
    "#Load your Excel file and read the sheets for each repeat\n",
    "df1 = pd.read_excel(r\"C:\\Users\\Francel\\Masters project\\Pyenzyme\\PPAT\\Run1-ATP_0_0625mM.xlsx\")\n",
    "df2 = pd.read_excel(r\"C:\\Users\\Francel\\Masters project\\Pyenzyme\\PPAT\\Run2-ATP_0_0625mM.xlsx\")\n",
    "\n",
    "# Create the Measurement object for one run at ATP = 0.0625 mM\n",
    "measurement_32 = Measurement(\n",
    "    name=\"Run 32 - ATP = 0.0625mM\", temperature=25, temperature_unit=\"C\",\n",
    "    ph=7.8, global_time_unit=\"mins\"\n",
    ")\n",
    "\n",
    "# Add initial concentrations for reactants\n",
    "measurement_32.addData(reactant_id=PpanSH_id, init_conc=0.5, unit=\"mM\")\n",
    "measurement_32.addData(reactant_id=ATP_id, init_conc=0.0625, unit=\"mM\")\n",
    "measurement_32.addData(protein_id=PPAT_id, init_conc=0.1, unit=\"mg/ml\")\n",
    "\n",
    "# Convert time and data columns to lists before passing to Replicate\n",
    "repeat1 = Replicate(\n",
    "    id=\"repeat1 for ATP = 0.0625 mM @ 0.5 mM PpanSH\",\n",
    "    species_id=ATP_id,\n",
    "    data_unit=\"mM\",\n",
    "    time_unit=\"min\",\n",
    "    time=df1['Time_min'].tolist(),\n",
    "    data=df1['B08'].tolist()\n",
    ")\n",
    "\n",
    "repeat2 = Replicate(\n",
    "    id=\"repeat2 for ATP = 0.0625 mM @ 0.5 mM PpanSH\",\n",
    "    species_id=ATP_id,\n",
    "    data_unit=\"mM\",\n",
    "    time_unit=\"min\",\n",
    "    time=df2['Time_min'].tolist(),\n",
    "    data=df2['B10'].tolist()\n",
    ")\n",
    "\n",
    "\n",
    "\n",
    "# Add replicates to measurement\n",
    "measurement_32.addReplicates(repeat1, enzmldoc)\n",
    "measurement_32.addReplicates(repeat2, enzmldoc)\n",
    "\n",
    "# Add the measurement to the EnzymeML document\n",
    "meas_32_id = enzmldoc.addMeasurement(measurement_32)\n",
    "\n",
    "print(\"Measurement created for two repeats at ATP = 0.0625 mM, PpanSH = 0.5 mM \")"
   ]
  },
  {
   "cell_type": "markdown",
   "id": "7ea9fcd8",
   "metadata": {},
   "source": [
    "(33) Create measurment for condition at ATP = 0.0625mM and PpanSH = 0.25mM"
   ]
  },
  {
   "cell_type": "code",
   "execution_count": 36,
   "id": "5c26bfc4",
   "metadata": {},
   "outputs": [
    {
     "name": "stdout",
     "output_type": "stream",
     "text": [
      "Measurement created for two repeats at ATP = 0.0625 mM, PpanSH = 0.25 mM \n"
     ]
    }
   ],
   "source": [
    "#Load your Excel file and read the sheets for each repeat\n",
    "df1 = pd.read_excel(r\"C:\\Users\\Francel\\Masters project\\Pyenzyme\\PPAT\\Run1-ATP_0_0625mM.xlsx\")\n",
    "df2 = pd.read_excel(r\"C:\\Users\\Francel\\Masters project\\Pyenzyme\\PPAT\\Run2-ATP_0_0625mM.xlsx\")\n",
    "\n",
    "# Create the Measurement object for one run at ATP = 0.0625 mM\n",
    "measurement_33 = Measurement(\n",
    "    name=\"Run 33 - ATP = 0.0625mM\", temperature=25, temperature_unit=\"C\",\n",
    "    ph=7.8, global_time_unit=\"mins\"\n",
    ")\n",
    "\n",
    "# Add initial concentrations for reactants\n",
    "measurement_33.addData(reactant_id=PpanSH_id, init_conc=0.25, unit=\"mM\")\n",
    "measurement_33.addData(reactant_id=ATP_id, init_conc=0.0625, unit=\"mM\")\n",
    "measurement_33.addData(protein_id=PPAT_id, init_conc=0.1, unit=\"mg/ml\")\n",
    "\n",
    "# Convert time and data columns to lists before passing to Replicate\n",
    "repeat1 = Replicate(\n",
    "    id=\"repeat1 for ATP = 0.0625 mM @ 0.25 mM PpanSH\",\n",
    "    species_id=ATP_id,\n",
    "    data_unit=\"mM\",\n",
    "    time_unit=\"min\",\n",
    "    time=df1['Time_min'].tolist(),\n",
    "    data=df1['C08'].tolist()\n",
    ")\n",
    "\n",
    "repeat2 = Replicate(\n",
    "    id=\"repeat2 for ATP = 0.0625 mM @ 0.25 mM PpanSH\",\n",
    "    species_id=ATP_id,\n",
    "    data_unit=\"mM\",\n",
    "    time_unit=\"min\",\n",
    "    time=df2['Time_min'].tolist(),\n",
    "    data=df2['C10'].tolist()\n",
    ")\n",
    "\n",
    "\n",
    "\n",
    "# Add replicates to measurement\n",
    "measurement_33.addReplicates(repeat1, enzmldoc)\n",
    "measurement_33.addReplicates(repeat2, enzmldoc)\n",
    "\n",
    "# Add the measurement to the EnzymeML document\n",
    "meas_33_id = enzmldoc.addMeasurement(measurement_33)\n",
    "\n",
    "print(\"Measurement created for two repeats at ATP = 0.0625 mM, PpanSH = 0.25 mM \")"
   ]
  },
  {
   "cell_type": "markdown",
   "id": "160e5f55",
   "metadata": {},
   "source": [
    "(34) Create measurment for condition at ATP = 0.0625mM and PpanSH = 0.125mM"
   ]
  },
  {
   "cell_type": "code",
   "execution_count": 37,
   "id": "97f26eeb",
   "metadata": {},
   "outputs": [
    {
     "name": "stdout",
     "output_type": "stream",
     "text": [
      "Measurement created for two repeats at ATP = 0.0625 mM, PpanSH = 0.125 mM \n"
     ]
    }
   ],
   "source": [
    "#Load your Excel file and read the sheets for each repeat\n",
    "df1 = pd.read_excel(r\"C:\\Users\\Francel\\Masters project\\Pyenzyme\\PPAT\\Run1-ATP_0_0625mM.xlsx\")\n",
    "df2 = pd.read_excel(r\"C:\\Users\\Francel\\Masters project\\Pyenzyme\\PPAT\\Run2-ATP_0_0625mM.xlsx\")\n",
    "\n",
    "# Create the Measurement object for one run at ATP = 0.0625 mM\n",
    "measurement_34 = Measurement(\n",
    "    name=\"Run 34 - ATP = 0.0625mM\", temperature=25, temperature_unit=\"C\",\n",
    "    ph=7.8, global_time_unit=\"mins\"\n",
    ")\n",
    "\n",
    "# Add initial concentrations for reactants\n",
    "measurement_34.addData(reactant_id=PpanSH_id, init_conc=0.125, unit=\"mM\")\n",
    "measurement_34.addData(reactant_id=ATP_id, init_conc=0.0625, unit=\"mM\")\n",
    "measurement_34.addData(protein_id=PPAT_id, init_conc=0.1, unit=\"mg/ml\")\n",
    "\n",
    "# Convert time and data columns to lists before passing to Replicate\n",
    "repeat1 = Replicate(\n",
    "    id=\"repeat1 for ATP = 0.0625 mM @ 0.125 mM PpanSH\",\n",
    "    species_id=ATP_id,\n",
    "    data_unit=\"mM\",\n",
    "    time_unit=\"min\",\n",
    "    time=df1['Time_min'].tolist(),\n",
    "    data=df1['D08'].tolist()\n",
    ")\n",
    "\n",
    "repeat2 = Replicate(\n",
    "    id=\"repeat2 for ATP = 0.0625 mM @ 0.125 mM PpanSH\",\n",
    "    species_id=ATP_id,\n",
    "    data_unit=\"mM\",\n",
    "    time_unit=\"min\",\n",
    "    time=df2['Time_min'].tolist(),\n",
    "    data=df2['D10'].tolist()\n",
    ")\n",
    "\n",
    "\n",
    "\n",
    "# Add replicates to measurement\n",
    "measurement_34.addReplicates(repeat1, enzmldoc)\n",
    "measurement_34.addReplicates(repeat2, enzmldoc)\n",
    "\n",
    "# Add the measurement to the EnzymeML document\n",
    "meas_34_id = enzmldoc.addMeasurement(measurement_34)\n",
    "\n",
    "print(\"Measurement created for two repeats at ATP = 0.0625 mM, PpanSH = 0.125 mM \")"
   ]
  },
  {
   "cell_type": "markdown",
   "id": "ab763123",
   "metadata": {},
   "source": [
    "(35) Create measurment for condition at ATP = 0.0625mM and PpanSH = 0.0625mM"
   ]
  },
  {
   "cell_type": "code",
   "execution_count": 38,
   "id": "74cf5b13",
   "metadata": {},
   "outputs": [
    {
     "name": "stdout",
     "output_type": "stream",
     "text": [
      "Measurement created for two repeats at ATP = 0.0625 mM, PpanSH = 0.0625 mM \n"
     ]
    }
   ],
   "source": [
    "#Load your Excel file and read the sheets for each repeat\n",
    "df1 = pd.read_excel(r\"C:\\Users\\Francel\\Masters project\\Pyenzyme\\PPAT\\Run1-ATP_0_0625mM.xlsx\")\n",
    "df2 = pd.read_excel(r\"C:\\Users\\Francel\\Masters project\\Pyenzyme\\PPAT\\Run2-ATP_0_0625mM.xlsx\")\n",
    "\n",
    "# Create the Measurement object for one run at ATP = 0.0625 mM\n",
    "measurement_35 = Measurement(\n",
    "    name=\"Run 35 - ATP = 0.0625mM\", temperature=25, temperature_unit=\"C\",\n",
    "    ph=7.8, global_time_unit=\"mins\"\n",
    ")\n",
    "\n",
    "# Add initial concentrations for reactants\n",
    "measurement_35.addData(reactant_id=PpanSH_id, init_conc=0.0625, unit=\"mM\")\n",
    "measurement_35.addData(reactant_id=ATP_id, init_conc=0.0625, unit=\"mM\")\n",
    "measurement_35.addData(protein_id=PPAT_id, init_conc=0.1, unit=\"mg/ml\")\n",
    "\n",
    "# Convert time and data columns to lists before passing to Replicate\n",
    "repeat1 = Replicate(\n",
    "    id=\"repeat1 for ATP = 0.0625 mM @ 0.0625 mM PpanSH\",\n",
    "    species_id=ATP_id,\n",
    "    data_unit=\"mM\",\n",
    "    time_unit=\"min\",\n",
    "    time=df1['Time_min'].tolist(),\n",
    "    data=df1['E08'].tolist()\n",
    ")\n",
    "\n",
    "repeat2 = Replicate(\n",
    "    id=\"repeat2 for ATP = 0.0625 mM @ 0.0625 mM PpanSH\",\n",
    "    species_id=ATP_id,\n",
    "    data_unit=\"mM\",\n",
    "    time_unit=\"min\",\n",
    "    time=df2['Time_min'].tolist(),\n",
    "    data=df2['E10'].tolist()\n",
    ")\n",
    "\n",
    "\n",
    "\n",
    "# Add replicates to measurement\n",
    "measurement_35.addReplicates(repeat1, enzmldoc)\n",
    "measurement_35.addReplicates(repeat2, enzmldoc)\n",
    "\n",
    "# Add the measurement to the EnzymeML document\n",
    "meas_35_id = enzmldoc.addMeasurement(measurement_35)\n",
    "\n",
    "print(\"Measurement created for two repeats at ATP = 0.0625 mM, PpanSH = 0.0625 mM \")"
   ]
  },
  {
   "cell_type": "markdown",
   "id": "0e84c908",
   "metadata": {},
   "source": [
    "(36) Create measurment for condition at ATP = 0.0625mM and PpanSH = 0.0312mM"
   ]
  },
  {
   "cell_type": "code",
   "execution_count": 39,
   "id": "985ba218",
   "metadata": {},
   "outputs": [
    {
     "name": "stdout",
     "output_type": "stream",
     "text": [
      "Measurement created for two repeats at ATP = 0.0625 mM, PpanSH = 0.0312 mM \n"
     ]
    }
   ],
   "source": [
    "#Load your Excel file and read the sheets for each repeat\n",
    "df1 = pd.read_excel(r\"C:\\Users\\Francel\\Masters project\\Pyenzyme\\PPAT\\Run1-ATP_0_0625mM.xlsx\")\n",
    "df2 = pd.read_excel(r\"C:\\Users\\Francel\\Masters project\\Pyenzyme\\PPAT\\Run2-ATP_0_0625mM.xlsx\")\n",
    "\n",
    "# Create the Measurement object for one run at ATP = 0.0625 mM\n",
    "measurement_36 = Measurement(\n",
    "    name=\"Run 36 - ATP = 0.0625mM\", temperature=25, temperature_unit=\"C\",\n",
    "    ph=7.8, global_time_unit=\"mins\"\n",
    ")\n",
    "\n",
    "# Add initial concentrations for reactants\n",
    "measurement_36.addData(reactant_id=PpanSH_id, init_conc=0.0312, unit=\"mM\")\n",
    "measurement_36.addData(reactant_id=ATP_id, init_conc=0.0625, unit=\"mM\")\n",
    "measurement_36.addData(protein_id=PPAT_id, init_conc=0.1, unit=\"mg/ml\")\n",
    "\n",
    "# Convert time and data columns to lists before passing to Replicate\n",
    "repeat1 = Replicate(\n",
    "    id=\"repeat1 for ATP = 0.0625 mM @ 0.0312 mM PpanSH\",\n",
    "    species_id=ATP_id,\n",
    "    data_unit=\"mM\",\n",
    "    time_unit=\"min\",\n",
    "    time=df1['Time_min'].tolist(),\n",
    "    data=df1['F08'].tolist()\n",
    ")\n",
    "\n",
    "repeat2 = Replicate(\n",
    "    id=\"repeat2 for ATP = 0.0625 mM @ 0.0312 mM PpanSH\",\n",
    "    species_id=ATP_id,\n",
    "    data_unit=\"mM\",\n",
    "    time_unit=\"min\",\n",
    "    time=df2['Time_min'].tolist(),\n",
    "    data=df2['F10'].tolist()\n",
    ")\n",
    "\n",
    "\n",
    "\n",
    "# Add replicates to measurement\n",
    "measurement_36.addReplicates(repeat1, enzmldoc)\n",
    "measurement_36.addReplicates(repeat2, enzmldoc)\n",
    "\n",
    "# Add the measurement to the EnzymeML document\n",
    "meas_36_id = enzmldoc.addMeasurement(measurement_36)\n",
    "\n",
    "print(\"Measurement created for two repeats at ATP = 0.0625 mM, PpanSH = 0.0312 mM \")"
   ]
  },
  {
   "cell_type": "markdown",
   "id": "acfde8bc",
   "metadata": {},
   "source": [
    "(37) Create measurment for first condition at ATP = 0.0312mM and PpanSH = 1mM"
   ]
  },
  {
   "cell_type": "code",
   "execution_count": 51,
   "id": "db994a84",
   "metadata": {},
   "outputs": [
    {
     "name": "stdout",
     "output_type": "stream",
     "text": [
      "Measurement created for two repeats at ATP = 0.0312 mM, PpanSH = 1 mM \n"
     ]
    }
   ],
   "source": [
    "#Load your Excel file and read the sheets for each repeat\n",
    "df1 = pd.read_excel(r\"C:\\Users\\Francel\\Masters project\\Pyenzyme\\PPAT\\Run1-ATP_0_031mM.xlsx\")\n",
    "df2 = pd.read_excel(r\"C:\\Users\\Francel\\Masters project\\Pyenzyme\\PPAT\\Run2-ATP_0_031mM.xlsx\")\n",
    "\n",
    "# Create the Measurement object for one run at ATP = 0.0312 mM\n",
    "measurement_37 = Measurement(\n",
    "    name=\"Run 37 - ATP = 0.0312mM\", temperature=25, temperature_unit=\"C\",\n",
    "    ph=7.8, global_time_unit=\"mins\"\n",
    ")\n",
    "\n",
    "# Add initial concentrations for reactants\n",
    "measurement_37.addData(reactant_id=PpanSH_id, init_conc=1, unit=\"mM\")\n",
    "measurement_37.addData(reactant_id=ATP_id, init_conc=0.0312, unit=\"mM\")\n",
    "measurement_37.addData(protein_id=PPAT_id, init_conc=0.1, unit=\"mg/ml\")\n",
    "\n",
    "# Convert time and data columns to lists before passing to Replicate\n",
    "repeat1 = Replicate(\n",
    "    id=\"repeat1 for ATP =0.0312 mM @ 1 mM PpanSH\",\n",
    "    species_id=ATP_id,\n",
    "    data_unit=\"mM\",\n",
    "    time_unit=\"min\",\n",
    "    time=df1['Time_min'].tolist(),\n",
    "    data=df1['A01'].tolist()\n",
    ")\n",
    "\n",
    "repeat2 = Replicate(\n",
    "    id=\"repeat2 for ATP = 0.0312 mM @ 1 mM PpanSH\",\n",
    "    species_id=ATP_id,\n",
    "    data_unit=\"mM\",\n",
    "    time_unit=\"min\",\n",
    "    time=df2['Time_min'].tolist(),\n",
    "    data=df2['A03'].tolist()\n",
    ")\n",
    "\n",
    "\n",
    "\n",
    "# Add replicates to measurement\n",
    "measurement_37.addReplicates(repeat1, enzmldoc)\n",
    "measurement_37.addReplicates(repeat2, enzmldoc)\n",
    "\n",
    "# Add the measurement to the EnzymeML document\n",
    "meas_37_id = enzmldoc.addMeasurement(measurement_37)\n",
    "\n",
    "print(\"Measurement created for two repeats at ATP = 0.0312 mM, PpanSH = 1 mM \")"
   ]
  },
  {
   "cell_type": "markdown",
   "id": "9d17ab82",
   "metadata": {},
   "source": [
    "(38) Create measurment for condition at ATP = 0.0312mM and PpanSH = 0.5mM"
   ]
  },
  {
   "cell_type": "code",
   "execution_count": 52,
   "id": "8d532ff4",
   "metadata": {},
   "outputs": [
    {
     "name": "stdout",
     "output_type": "stream",
     "text": [
      "Measurement created for two repeats at ATP = 0.0312 mM, PpanSH = 0.5 mM \n"
     ]
    }
   ],
   "source": [
    "#Load your Excel file and read the sheets for each repeat\n",
    "df1 = pd.read_excel(r\"C:\\Users\\Francel\\Masters project\\Pyenzyme\\PPAT\\Run1-ATP_0_031mM.xlsx\")\n",
    "df2 = pd.read_excel(r\"C:\\Users\\Francel\\Masters project\\Pyenzyme\\PPAT\\Run2-ATP_0_031mM.xlsx\")\n",
    "\n",
    "# Create the Measurement object for one run at ATP = 0.0312 mM\n",
    "measurement_38 = Measurement(\n",
    "    name=\"Run 38 - ATP = 0.0312mM\", temperature=25, temperature_unit=\"C\",\n",
    "    ph=7.8, global_time_unit=\"mins\"\n",
    ")\n",
    "\n",
    "# Add initial concentrations for reactants\n",
    "measurement_38.addData(reactant_id=PpanSH_id, init_conc=0.5, unit=\"mM\")\n",
    "measurement_38.addData(reactant_id=ATP_id, init_conc=0.0312, unit=\"mM\")\n",
    "measurement_38.addData(protein_id=PPAT_id, init_conc=0.1, unit=\"mg/ml\")\n",
    "\n",
    "# Convert time and data columns to lists before passing to Replicate\n",
    "repeat1 = Replicate(\n",
    "    id=\"repeat1 for ATP =0.0312 mM @ 0.5 mM PpanSH\",\n",
    "    species_id=ATP_id,\n",
    "    data_unit=\"mM\",\n",
    "    time_unit=\"min\",\n",
    "    time=df1['Time_min'].tolist(),\n",
    "    data=df1['B01'].tolist()\n",
    ")\n",
    "\n",
    "repeat2 = Replicate(\n",
    "    id=\"repeat2 for ATP = 0.0312 mM @ 0.5 mM PpanSH\",\n",
    "    species_id=ATP_id,\n",
    "    data_unit=\"mM\",\n",
    "    time_unit=\"min\",\n",
    "    time=df2['Time_min'].tolist(),\n",
    "    data=df2['B03'].tolist()\n",
    ")\n",
    "\n",
    "\n",
    "\n",
    "# Add replicates to measurement\n",
    "measurement_38.addReplicates(repeat1, enzmldoc)\n",
    "measurement_38.addReplicates(repeat2, enzmldoc)\n",
    "\n",
    "# Add the measurement to the EnzymeML document\n",
    "meas_38_id = enzmldoc.addMeasurement(measurement_38)\n",
    "\n",
    "print(\"Measurement created for two repeats at ATP = 0.0312 mM, PpanSH = 0.5 mM \")"
   ]
  },
  {
   "cell_type": "markdown",
   "id": "7d203b42",
   "metadata": {},
   "source": [
    "(39) Create measurment for condition at ATP = 0.0312mM and PpanSH = 0.25mM"
   ]
  },
  {
   "cell_type": "code",
   "execution_count": 53,
   "id": "8da8efa9",
   "metadata": {},
   "outputs": [
    {
     "name": "stdout",
     "output_type": "stream",
     "text": [
      "Measurement created for two repeats at ATP = 0.0312 mM, PpanSH = 0.25 mM \n"
     ]
    }
   ],
   "source": [
    "#Load your Excel file and read the sheets for each repeat\n",
    "df1 = pd.read_excel(r\"C:\\Users\\Francel\\Masters project\\Pyenzyme\\PPAT\\Run1-ATP_0_031mM.xlsx\")\n",
    "df2 = pd.read_excel(r\"C:\\Users\\Francel\\Masters project\\Pyenzyme\\PPAT\\Run2-ATP_0_031mM.xlsx\")\n",
    "\n",
    "# Create the Measurement object for one run at ATP = 0.0312 mM\n",
    "measurement_39 = Measurement(\n",
    "    name=\"Run 39 - ATP = 0.0312mM\", temperature=25, temperature_unit=\"C\",\n",
    "    ph=7.8, global_time_unit=\"mins\"\n",
    ")\n",
    "\n",
    "# Add initial concentrations for reactants\n",
    "measurement_39.addData(reactant_id=PpanSH_id, init_conc=0.25, unit=\"mM\")\n",
    "measurement_39.addData(reactant_id=ATP_id, init_conc=0.0312, unit=\"mM\")\n",
    "measurement_39.addData(protein_id=PPAT_id, init_conc=0.1, unit=\"mg/ml\")\n",
    "\n",
    "# Convert time and data columns to lists before passing to Replicate\n",
    "repeat1 = Replicate(\n",
    "    id=\"repeat1 for ATP =0.0312 mM @ 0.25 mM PpanSH\",\n",
    "    species_id=ATP_id,\n",
    "    data_unit=\"mM\",\n",
    "    time_unit=\"min\",\n",
    "    time=df1['Time_min'].tolist(),\n",
    "    data=df1['C01'].tolist()\n",
    ")\n",
    "\n",
    "repeat2 = Replicate(\n",
    "    id=\"repeat2 for ATP = 0.0312 mM @ 0.25 mM PpanSH\",\n",
    "    species_id=ATP_id,\n",
    "    data_unit=\"mM\",\n",
    "    time_unit=\"min\",\n",
    "    time=df2['Time_min'].tolist(),\n",
    "    data=df2['C03'].tolist()\n",
    ")\n",
    "\n",
    "\n",
    "\n",
    "# Add replicates to measurement\n",
    "measurement_39.addReplicates(repeat1, enzmldoc)\n",
    "measurement_39.addReplicates(repeat2, enzmldoc)\n",
    "\n",
    "# Add the measurement to the EnzymeML document\n",
    "meas_39_id = enzmldoc.addMeasurement(measurement_39)\n",
    "\n",
    "print(\"Measurement created for two repeats at ATP = 0.0312 mM, PpanSH = 0.25 mM \")"
   ]
  },
  {
   "cell_type": "markdown",
   "id": "2ca9bd9f",
   "metadata": {},
   "source": [
    "(40) Create measurment for condition at ATP = 0.0312mM and PpanSH = 0.125mM"
   ]
  },
  {
   "cell_type": "code",
   "execution_count": 54,
   "id": "91e83fe1",
   "metadata": {},
   "outputs": [
    {
     "name": "stdout",
     "output_type": "stream",
     "text": [
      "Measurement created for two repeats at ATP = 0.0312 mM, PpanSH = 0.125 mM \n"
     ]
    }
   ],
   "source": [
    "#Load your Excel file and read the sheets for each repeat\n",
    "df1 = pd.read_excel(r\"C:\\Users\\Francel\\Masters project\\Pyenzyme\\PPAT\\Run1-ATP_0_031mM.xlsx\")\n",
    "df2 = pd.read_excel(r\"C:\\Users\\Francel\\Masters project\\Pyenzyme\\PPAT\\Run2-ATP_0_031mM.xlsx\")\n",
    "\n",
    "# Create the Measurement object for one run at ATP = 0.0312 mM\n",
    "measurement_40 = Measurement(\n",
    "    name=\"Run 40 - ATP = 0.0312mM\", temperature=25, temperature_unit=\"C\",\n",
    "    ph=7.8, global_time_unit=\"mins\"\n",
    ")\n",
    "\n",
    "# Add initial concentrations for reactants\n",
    "measurement_40.addData(reactant_id=PpanSH_id, init_conc=0.125, unit=\"mM\")\n",
    "measurement_40.addData(reactant_id=ATP_id, init_conc=0.0312, unit=\"mM\")\n",
    "measurement_40.addData(protein_id=PPAT_id, init_conc=0.1, unit=\"mg/ml\")\n",
    "\n",
    "# Convert time and data columns to lists before passing to Replicate\n",
    "repeat1 = Replicate(\n",
    "    id=\"repeat1 for ATP =0.0312 mM @ 0.125 mM PpanSH\",\n",
    "    species_id=ATP_id,\n",
    "    data_unit=\"mM\",\n",
    "    time_unit=\"min\",\n",
    "    time=df1['Time_min'].tolist(),\n",
    "    data=df1['D01'].tolist()\n",
    ")\n",
    "\n",
    "repeat2 = Replicate(\n",
    "    id=\"repeat2 for ATP = 0.0312 mM @ 0.125 mM PpanSH\",\n",
    "    species_id=ATP_id,\n",
    "    data_unit=\"mM\",\n",
    "    time_unit=\"min\",\n",
    "    time=df2['Time_min'].tolist(),\n",
    "    data=df2['D03'].tolist()\n",
    ")\n",
    "\n",
    "\n",
    "\n",
    "# Add replicates to measurement\n",
    "measurement_40.addReplicates(repeat1, enzmldoc)\n",
    "measurement_40.addReplicates(repeat2, enzmldoc)\n",
    "\n",
    "# Add the measurement to the EnzymeML document\n",
    "meas_40_id = enzmldoc.addMeasurement(measurement_40)\n",
    "\n",
    "print(\"Measurement created for two repeats at ATP = 0.0312 mM, PpanSH = 0.125 mM \")"
   ]
  },
  {
   "cell_type": "markdown",
   "id": "a009c327",
   "metadata": {},
   "source": [
    "(41) Create measurment for condition at ATP = 0.0312mM and PpanSH = 0.0625mM"
   ]
  },
  {
   "cell_type": "code",
   "execution_count": 55,
   "id": "2919b4d7",
   "metadata": {},
   "outputs": [
    {
     "name": "stdout",
     "output_type": "stream",
     "text": [
      "Measurement created for two repeats at ATP = 0.0312 mM, PpanSH = 0.0625 mM \n"
     ]
    }
   ],
   "source": [
    "#Load your Excel file and read the sheets for each repeat\n",
    "df1 = pd.read_excel(r\"C:\\Users\\Francel\\Masters project\\Pyenzyme\\PPAT\\Run1-ATP_0_031mM.xlsx\")\n",
    "df2 = pd.read_excel(r\"C:\\Users\\Francel\\Masters project\\Pyenzyme\\PPAT\\Run2-ATP_0_031mM.xlsx\")\n",
    "\n",
    "# Create the Measurement object for one run at ATP = 0.0312 mM\n",
    "measurement_41 = Measurement(\n",
    "    name=\"Run 41 - ATP = 0.0312mM\", temperature=25, temperature_unit=\"C\",\n",
    "    ph=7.8, global_time_unit=\"mins\"\n",
    ")\n",
    "\n",
    "# Add initial concentrations for reactants\n",
    "measurement_41.addData(reactant_id=PpanSH_id, init_conc=0.0625, unit=\"mM\")\n",
    "measurement_41.addData(reactant_id=ATP_id, init_conc=0.0312, unit=\"mM\")\n",
    "measurement_41.addData(protein_id=PPAT_id, init_conc=0.1, unit=\"mg/ml\")\n",
    "\n",
    "# Convert time and data columns to lists before passing to Replicate\n",
    "repeat1 = Replicate(\n",
    "    id=\"repeat1 for ATP =0.0312 mM @ 0.0625 mM PpanSH\",\n",
    "    species_id=ATP_id,\n",
    "    data_unit=\"mM\",\n",
    "    time_unit=\"min\",\n",
    "    time=df1['Time_min'].tolist(),\n",
    "    data=df1['E01'].tolist()\n",
    ")\n",
    "\n",
    "repeat2 = Replicate(\n",
    "    id=\"repeat2 for ATP = 0.0312 mM @ 0.0625 mM PpanSH\",\n",
    "    species_id=ATP_id,\n",
    "    data_unit=\"mM\",\n",
    "    time_unit=\"min\",\n",
    "    time=df2['Time_min'].tolist(),\n",
    "    data=df2['E03'].tolist()\n",
    ")\n",
    "\n",
    "\n",
    "\n",
    "# Add replicates to measurement\n",
    "measurement_41.addReplicates(repeat1, enzmldoc)\n",
    "measurement_41.addReplicates(repeat2, enzmldoc)\n",
    "\n",
    "# Add the measurement to the EnzymeML document\n",
    "meas_41_id = enzmldoc.addMeasurement(measurement_41)\n",
    "\n",
    "print(\"Measurement created for two repeats at ATP = 0.0312 mM, PpanSH = 0.0625 mM \")"
   ]
  },
  {
   "cell_type": "markdown",
   "id": "bcedc092",
   "metadata": {},
   "source": [
    "(42) Create measurment for condition at ATP = 0.0312mM and PpanSH = 0.0312mM"
   ]
  },
  {
   "cell_type": "code",
   "execution_count": 56,
   "id": "ec8cbc1f",
   "metadata": {},
   "outputs": [
    {
     "name": "stdout",
     "output_type": "stream",
     "text": [
      "Measurement created for two repeats at ATP = 0.0312 mM, PpanSH = 0.0312 mM \n"
     ]
    }
   ],
   "source": [
    "#Load your Excel file and read the sheets for each repeat\n",
    "df1 = pd.read_excel(r\"C:\\Users\\Francel\\Masters project\\Pyenzyme\\PPAT\\Run1-ATP_0_031mM.xlsx\")\n",
    "df2 = pd.read_excel(r\"C:\\Users\\Francel\\Masters project\\Pyenzyme\\PPAT\\Run2-ATP_0_031mM.xlsx\")\n",
    "\n",
    "# Create the Measurement object for one run at ATP = 0.0312 mM\n",
    "measurement_42 = Measurement(\n",
    "    name=\"Run 42 - ATP = 0.0312mM\", temperature=25, temperature_unit=\"C\",\n",
    "    ph=7.8, global_time_unit=\"mins\"\n",
    ")\n",
    "\n",
    "# Add initial concentrations for reactants\n",
    "measurement_42.addData(reactant_id=PpanSH_id, init_conc=0.0312, unit=\"mM\")\n",
    "measurement_42.addData(reactant_id=ATP_id, init_conc=0.0312, unit=\"mM\")\n",
    "measurement_42.addData(protein_id=PPAT_id, init_conc=0.1, unit=\"mg/ml\")\n",
    "\n",
    "# Convert time and data columns to lists before passing to Replicate\n",
    "repeat1 = Replicate(\n",
    "    id=\"repeat1 for ATP =0.0312 mM @ 0.0312 mM PpanSH\",\n",
    "    species_id=ATP_id,\n",
    "    data_unit=\"mM\",\n",
    "    time_unit=\"min\",\n",
    "    time=df1['Time_min'].tolist(),\n",
    "    data=df1['F01'].tolist()\n",
    ")\n",
    "\n",
    "repeat2 = Replicate(\n",
    "    id=\"repeat2 for ATP = 0.0312 mM @ 0.0312 mM PpanSH\",\n",
    "    species_id=ATP_id,\n",
    "    data_unit=\"mM\",\n",
    "    time_unit=\"min\",\n",
    "    time=df2['Time_min'].tolist(),\n",
    "    data=df2['F03'].tolist()\n",
    ")\n",
    "\n",
    "\n",
    "\n",
    "# Add replicates to measurement\n",
    "measurement_42.addReplicates(repeat1, enzmldoc)\n",
    "measurement_42.addReplicates(repeat2, enzmldoc)\n",
    "\n",
    "# Add the measurement to the EnzymeML document\n",
    "meas_42_id = enzmldoc.addMeasurement(measurement_42)\n",
    "\n",
    "print(\"Measurement created for two repeats at ATP = 0.0312 mM, PpanSH = 0.0312 mM \")"
   ]
  },
  {
   "cell_type": "code",
   "execution_count": null,
   "id": "c4b11748",
   "metadata": {},
   "outputs": [],
   "source": []
  },
  {
   "cell_type": "markdown",
   "id": "c43bc472",
   "metadata": {},
   "source": [
    "## Add Kinetic Model\n"
   ]
  },
  {
   "cell_type": "code",
   "execution_count": 47,
   "id": "c951ec36",
   "metadata": {},
   "outputs": [],
   "source": [
    "# Create models py parsing equations for PPAT\n",
    "\n",
    "kinmod_PPAT = KineticModel.fromEquation(\"IMM_PPAT\", \n",
    "                             \"(vf*s0*s1)/((s0+K_ppansh)*(s1+K_atp))\")"
   ]
  },
  {
   "cell_type": "code",
   "execution_count": 48,
   "id": "4fa02b0b",
   "metadata": {},
   "outputs": [],
   "source": [
    "# Configure parameters for models\n",
    "\n",
    "kinmod_PPAT._vf.update(value=2.705, unit=\"mM / min\", lower=1e-6)\n",
    "kinmod_PPAT._K_atp.update(value=0.034, unit=\"mM\", lower=1e-6)\n",
    "kinmod_PPAT._K_ppansh.update(value=0.0669, unit=\"mM\", lower=1e-6)\n"
   ]
  },
  {
   "cell_type": "code",
   "execution_count": 49,
   "id": "d01e5b11",
   "metadata": {},
   "outputs": [],
   "source": [
    "# Add models to each reaction\n",
    "\n",
    "reaction1.model = kinmod_PPAT"
   ]
  },
  {
   "cell_type": "code",
   "execution_count": 71,
   "id": "646af580",
   "metadata": {},
   "outputs": [
    {
     "name": "stdout",
     "output_type": "stream",
     "text": [
      "\n",
      "Archive was written to .\\Enzyme_ML_doc.omex\n",
      "\n"
     ]
    }
   ],
   "source": [
    "# Finally, write to EnzymeML\n",
    "enzmldoc.toFile(\".\", \"Enzyme ML doc\")"
   ]
  },
  {
   "cell_type": "code",
   "execution_count": 72,
   "id": "4823b4c5",
   "metadata": {},
   "outputs": [],
   "source": [
    "import numpy as np\n",
    "from pyenzyme import EnzymeMLDocument"
   ]
  },
  {
   "cell_type": "code",
   "execution_count": 46,
   "id": "ede3e553",
   "metadata": {},
   "outputs": [
    {
     "data": {
      "text/plain": [
       "Phosphopantetheine adenylyltransferase (PPAT)\n",
       ">>> Reactants\n",
       "\tID: s0 \t Name: 4'-Phosphopantetheine\n",
       "\tID: s1 \t Name: Adenosine triphosphate\n",
       "\tID: s2 \t Name: Inorganic Pyrophospahte\n",
       ">>> Proteins\n",
       "\tID: p0 \t Name: PPAT\n",
       ">>> Complexes\n",
       ">>> Reactions\n",
       "\tID: r0 \t Name: Phosphopantetheine adenylyltransferase"
      ]
     },
     "execution_count": 46,
     "metadata": {},
     "output_type": "execute_result"
    }
   ],
   "source": [
    "enzmldoc"
   ]
  },
  {
   "cell_type": "code",
   "execution_count": null,
   "id": "5086ba34",
   "metadata": {},
   "outputs": [],
   "source": []
  }
 ],
 "metadata": {
  "kernelspec": {
   "display_name": "Python 3 (ipykernel)",
   "language": "python",
   "name": "python3"
  },
  "language_info": {
   "codemirror_mode": {
    "name": "ipython",
    "version": 3
   },
   "file_extension": ".py",
   "mimetype": "text/x-python",
   "name": "python",
   "nbconvert_exporter": "python",
   "pygments_lexer": "ipython3",
   "version": "3.9.12"
  }
 },
 "nbformat": 4,
 "nbformat_minor": 5
}
